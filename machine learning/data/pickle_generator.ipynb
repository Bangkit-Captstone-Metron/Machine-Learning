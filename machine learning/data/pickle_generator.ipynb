{
 "cells": [
  {
   "cell_type": "code",
   "execution_count": 1,
   "metadata": {},
   "outputs": [],
   "source": [
    "import os\n",
    "import matplotlib.pyplot as plt\n",
    "import numpy as np\n",
    "import imageio\n",
    "from imageio import imread\n",
    "import shutil\n",
    "import pandas as pd\n",
    "import pickle\n",
    "from tqdm import tqdm_notebook, tqdm\n",
    "from sklearn.model_selection import train_test_split\n",
    "import seaborn as sns\n",
    "from pylab import rcParams\n",
    "import sys\n",
    "from sklearn.metrics import log_loss, accuracy_score, confusion_matrix\n",
    "import cv2\n",
    "%matplotlib inline"
   ]
  },
  {
   "cell_type": "code",
   "execution_count": 3,
   "metadata": {},
   "outputs": [],
   "source": [
    "fake_path = 'training/fake/'\n",
    "pristine_path = 'training/pristine/'\n",
    "mask_path = fake_path + 'masks/'"
   ]
  },
  {
   "cell_type": "code",
   "execution_count": 5,
   "metadata": {},
   "outputs": [
    {
     "name": "stdout",
     "output_type": "stream",
     "text": [
      "Segregated already\n"
     ]
    }
   ],
   "source": [
    "# segregate masks from images\n",
    "if not os.path.isdir(fake_path+'masks/'):\n",
    "    os.mkdir(fake_path+'masks/')\n",
    "    for fake in fakes:\n",
    "        if len(fake.split('.'))==3:\n",
    "            shutil.move(fake_path+fake, fake_path+'masks/')\n",
    "else:\n",
    "    print('Segregated already')"
   ]
  },
  {
   "cell_type": "code",
   "execution_count": 6,
   "metadata": {},
   "outputs": [],
   "source": [
    "fakes = os.listdir(fake_path)[1:-1]"
   ]
  },
  {
   "cell_type": "code",
   "execution_count": 7,
   "metadata": {},
   "outputs": [],
   "source": [
    "masks = os.listdir(mask_path)"
   ]
  },
  {
   "cell_type": "code",
   "execution_count": 8,
   "metadata": {},
   "outputs": [],
   "source": [
    "pristines = os.listdir(pristine_path)"
   ]
  },
  {
   "cell_type": "markdown",
   "metadata": {},
   "source": [
    "# Pickle Based On Images Channel"
   ]
  },
  {
   "cell_type": "markdown",
   "metadata": {},
   "source": [
    "## Fakes"
   ]
  },
  {
   "cell_type": "markdown",
   "metadata": {},
   "source": [
    "All images have 4 or 3 channels"
   ]
  },
  {
   "cell_type": "code",
   "execution_count": 9,
   "metadata": {},
   "outputs": [],
   "source": [
    "four_channel_fakes=[]\n",
    "for fake in fakes:\n",
    "    if imageio.imread(fake_path+fake).shape[2]==4:\n",
    "        four_channel_fakes.append(fake)\n",
    "        \n",
    "three_channel_fakes = [f for f in fakes if f not in four_channel_fakes]"
   ]
  },
  {
   "cell_type": "code",
   "execution_count": 10,
   "metadata": {},
   "outputs": [
    {
     "data": {
      "text/plain": [
       "64"
      ]
     },
     "execution_count": 10,
     "metadata": {},
     "output_type": "execute_result"
    }
   ],
   "source": [
    "len(four_channel_fakes)"
   ]
  },
  {
   "cell_type": "code",
   "execution_count": 11,
   "metadata": {},
   "outputs": [
    {
     "data": {
      "text/plain": [
       "386"
      ]
     },
     "execution_count": 11,
     "metadata": {},
     "output_type": "execute_result"
    }
   ],
   "source": [
    "len(three_channel_fakes)"
   ]
  },
  {
   "cell_type": "code",
   "execution_count": 51,
   "metadata": {},
   "outputs": [],
   "source": [
    "with open('pickle/channels/three_channel_fakes.pickle', 'wb') as f:\n",
    "    pickle.dump(three_channel_fakes, f)\n",
    "    \n",
    "with open('pickle/channels/four_channel_fakes.pickle', 'wb') as f:\n",
    "    pickle.dump(four_channel_fakes, f)"
   ]
  },
  {
   "cell_type": "markdown",
   "metadata": {},
   "source": [
    "## Masks"
   ]
  },
  {
   "cell_type": "markdown",
   "metadata": {},
   "source": [
    "One, three, or four channels"
   ]
  },
  {
   "cell_type": "code",
   "execution_count": 14,
   "metadata": {},
   "outputs": [],
   "source": [
    "one_channel_masks=[]\n",
    "for mask in masks:\n",
    "    if len(imageio.imread(mask_path+mask).shape)==2:\n",
    "        one_channel_masks.append(mask)"
   ]
  },
  {
   "cell_type": "code",
   "execution_count": 16,
   "metadata": {},
   "outputs": [],
   "source": [
    "three_channel_masks=[]\n",
    "for mask in masks:\n",
    "    img=imageio.imread(mask_path+mask)\n",
    "    if len(img.shape)==3 and img.shape[2]==3:\n",
    "        three_channel_masks.append(mask)\n",
    "\n",
    "four_channel_masks=[m for m in masks if ((m not in one_channel_masks) and (m not in three_channel_masks))]"
   ]
  },
  {
   "cell_type": "code",
   "execution_count": 17,
   "metadata": {},
   "outputs": [
    {
     "data": {
      "text/plain": [
       "65"
      ]
     },
     "execution_count": 17,
     "metadata": {},
     "output_type": "execute_result"
    }
   ],
   "source": [
    "len(three_channel_masks)"
   ]
  },
  {
   "cell_type": "code",
   "execution_count": 18,
   "metadata": {},
   "outputs": [
    {
     "data": {
      "text/plain": [
       "58"
      ]
     },
     "execution_count": 18,
     "metadata": {},
     "output_type": "execute_result"
    }
   ],
   "source": [
    "len(four_channel_masks)"
   ]
  },
  {
   "cell_type": "code",
   "execution_count": 19,
   "metadata": {},
   "outputs": [
    {
     "name": "stdout",
     "output_type": "stream",
     "text": [
      "327 masks have only one channel i.e. grayscale\n"
     ]
    }
   ],
   "source": [
    "print(str(len(one_channel_masks))+' masks have only one channel i.e. grayscale')"
   ]
  },
  {
   "cell_type": "code",
   "execution_count": 52,
   "metadata": {},
   "outputs": [],
   "source": [
    "with open('pickle/channels/one_channel_masks.pickle', 'wb') as f:\n",
    "    pickle.dump(one_channel_masks, f)\n",
    "    \n",
    "with open('pickle/channels/three_channel_masks.pickle', 'wb') as f:\n",
    "    pickle.dump(three_channel_masks, f)\n",
    "    \n",
    "with open('pickle/channels/four_channel_masks.pickle', 'wb') as f:\n",
    "    pickle.dump(four_channel_masks, f)"
   ]
  },
  {
   "cell_type": "markdown",
   "metadata": {},
   "source": [
    "## Pristines"
   ]
  },
  {
   "cell_type": "markdown",
   "metadata": {},
   "source": [
    "One, three, or four channels"
   ]
  },
  {
   "cell_type": "code",
   "execution_count": 24,
   "metadata": {},
   "outputs": [],
   "source": [
    "three_channel_pristines=[]\n",
    "\n",
    "for pristine in pristines:\n",
    "    img=imageio.imread(pristine_path+pristine)\n",
    "    if len(img.shape)==3 and img.shape[2]==3:\n",
    "        three_channel_pristines.append(pristine)"
   ]
  },
  {
   "cell_type": "code",
   "execution_count": 25,
   "metadata": {},
   "outputs": [],
   "source": [
    "one_channel_pristines=[]\n",
    "\n",
    "for pristine in pristines:\n",
    "    img=imageio.imread(pristine_path+pristine)\n",
    "    if len(img.shape)<3:\n",
    "        one_channel_pristines.append(pristine)\n",
    "    \n",
    "four_channel_pristines=[p for p in pristines if (p not in one_channel_pristines) and (p not in three_channel_pristines)]"
   ]
  },
  {
   "cell_type": "code",
   "execution_count": 26,
   "metadata": {},
   "outputs": [
    {
     "data": {
      "text/plain": [
       "1025"
      ]
     },
     "execution_count": 26,
     "metadata": {},
     "output_type": "execute_result"
    }
   ],
   "source": [
    "len(three_channel_pristines)"
   ]
  },
  {
   "cell_type": "code",
   "execution_count": 27,
   "metadata": {},
   "outputs": [
    {
     "data": {
      "text/plain": [
       "3"
      ]
     },
     "execution_count": 27,
     "metadata": {},
     "output_type": "execute_result"
    }
   ],
   "source": [
    "len(one_channel_pristines)"
   ]
  },
  {
   "cell_type": "code",
   "execution_count": 28,
   "metadata": {},
   "outputs": [
    {
     "data": {
      "text/plain": [
       "22"
      ]
     },
     "execution_count": 28,
     "metadata": {},
     "output_type": "execute_result"
    }
   ],
   "source": [
    "len(four_channel_pristines)"
   ]
  },
  {
   "cell_type": "code",
   "execution_count": 50,
   "metadata": {},
   "outputs": [],
   "source": [
    "with open('pickle/channels/one_channel_pristines.pickle', 'wb') as f:\n",
    "    pickle.dump(one_channel_pristines, f)\n",
    "    \n",
    "with open('pickle/channels/three_channel_pristines.pickle', 'wb') as f:\n",
    "    pickle.dump(three_channel_pristines, f)\n",
    "\n",
    "with open('pickle/channels/four_channel_pristines.pickle', 'wb') as f:\n",
    "    pickle.dump(four_channel_pristines, f)"
   ]
  },
  {
   "cell_type": "markdown",
   "metadata": {},
   "source": [
    "## Channel Distribution"
   ]
  },
  {
   "cell_type": "code",
   "execution_count": 31,
   "metadata": {},
   "outputs": [
    {
     "data": {
      "text/html": [
       "<div>\n",
       "<style scoped>\n",
       "    .dataframe tbody tr th:only-of-type {\n",
       "        vertical-align: middle;\n",
       "    }\n",
       "\n",
       "    .dataframe tbody tr th {\n",
       "        vertical-align: top;\n",
       "    }\n",
       "\n",
       "    .dataframe thead th {\n",
       "        text-align: right;\n",
       "    }\n",
       "</style>\n",
       "<table border=\"1\" class=\"dataframe\">\n",
       "  <thead>\n",
       "    <tr style=\"text-align: right;\">\n",
       "      <th></th>\n",
       "      <th>pristines</th>\n",
       "      <th>fakes</th>\n",
       "      <th>masks</th>\n",
       "    </tr>\n",
       "  </thead>\n",
       "  <tbody>\n",
       "    <tr>\n",
       "      <th>1 channel</th>\n",
       "      <td>3</td>\n",
       "      <td>0</td>\n",
       "      <td>327</td>\n",
       "    </tr>\n",
       "    <tr>\n",
       "      <th>3 channel</th>\n",
       "      <td>1025</td>\n",
       "      <td>386</td>\n",
       "      <td>65</td>\n",
       "    </tr>\n",
       "    <tr>\n",
       "      <th>4 channel</th>\n",
       "      <td>22</td>\n",
       "      <td>64</td>\n",
       "      <td>58</td>\n",
       "    </tr>\n",
       "    <tr>\n",
       "      <th>total</th>\n",
       "      <td>1050</td>\n",
       "      <td>450</td>\n",
       "      <td>450</td>\n",
       "    </tr>\n",
       "  </tbody>\n",
       "</table>\n",
       "</div>"
      ],
      "text/plain": [
       "           pristines  fakes  masks\n",
       "1 channel          3      0    327\n",
       "3 channel       1025    386     65\n",
       "4 channel         22     64     58\n",
       "total           1050    450    450"
      ]
     },
     "execution_count": 31,
     "metadata": {},
     "output_type": "execute_result"
    }
   ],
   "source": [
    "table={}\n",
    "table['pristines']=[len(one_channel_pristines), len(three_channel_pristines), len(four_channel_pristines), len(one_channel_pristines)+len(three_channel_pristines)+len(four_channel_pristines)]\n",
    "table['fakes']=[0, len(three_channel_fakes), len(four_channel_fakes), len(three_channel_fakes)+len(four_channel_fakes)]\n",
    "table['masks']=[len(one_channel_masks), len(three_channel_masks), len(four_channel_masks), len(one_channel_masks)+len(three_channel_masks)+len(four_channel_masks)]\n",
    "pd.DataFrame(table, index=['1 channel', '3 channel', '4 channel', 'total'])"
   ]
  },
  {
   "cell_type": "markdown",
   "metadata": {},
   "source": [
    "# Pickle Based On Training Data"
   ]
  },
  {
   "cell_type": "markdown",
   "metadata": {},
   "source": [
    "## Training Data Preparation"
   ]
  },
  {
   "cell_type": "code",
   "execution_count": 35,
   "metadata": {},
   "outputs": [],
   "source": [
    "pristine_images=[]\n",
    "pristines_final=[]\n",
    "for i, pristine in enumerate(pristines):\n",
    "    img=imread(pristine_path+pristine)\n",
    "    if len(img.shape)<3:\n",
    "        continue\n",
    "    if img.shape[2]==4:\n",
    "        continue\n",
    "    pristines_final.append(pristine)\n",
    "    pristine_images.append(img)"
   ]
  },
  {
   "cell_type": "code",
   "execution_count": 36,
   "metadata": {},
   "outputs": [
    {
     "data": {
      "text/plain": [
       "1025"
      ]
     },
     "execution_count": 36,
     "metadata": {},
     "output_type": "execute_result"
    }
   ],
   "source": [
    "len(pristines_final)"
   ]
  },
  {
   "cell_type": "code",
   "execution_count": 37,
   "metadata": {},
   "outputs": [],
   "source": [
    "fake_images=[]\n",
    "fakes_final=[]\n",
    "for fake in fakes:\n",
    "    img=imread(fake_path+fake)\n",
    "    try:\n",
    "        fake_images.append(img[:,:,:3])\n",
    "        fakes_final.append(fake)\n",
    "    except IndexError:\n",
    "        print(f'image {fake} has only 1 channel')"
   ]
  },
  {
   "cell_type": "code",
   "execution_count": 38,
   "metadata": {},
   "outputs": [
    {
     "data": {
      "text/plain": [
       "450"
      ]
     },
     "execution_count": 38,
     "metadata": {},
     "output_type": "execute_result"
    }
   ],
   "source": [
    "len(fake_images)"
   ]
  },
  {
   "cell_type": "code",
   "execution_count": 39,
   "metadata": {},
   "outputs": [],
   "source": [
    "image_names=[]\n",
    "for i in range(0, len(pristine_images)):\n",
    "    image_names.append(pristines_final[i])\n",
    "for i in range(0, len(fake_images)):\n",
    "    image_names.append(fakes_final[i])"
   ]
  },
  {
   "cell_type": "code",
   "execution_count": 40,
   "metadata": {},
   "outputs": [
    {
     "data": {
      "text/plain": [
       "1475"
      ]
     },
     "execution_count": 40,
     "metadata": {},
     "output_type": "execute_result"
    }
   ],
   "source": [
    "len(image_names)"
   ]
  },
  {
   "cell_type": "code",
   "execution_count": 41,
   "metadata": {},
   "outputs": [],
   "source": [
    "labels=[0]*1025+[1]*450"
   ]
  },
  {
   "cell_type": "code",
   "execution_count": 42,
   "metadata": {},
   "outputs": [],
   "source": [
    "x_train, x_test, y_train, y_test = train_test_split(image_names, labels, test_size=0.2, stratify=labels)"
   ]
  },
  {
   "cell_type": "code",
   "execution_count": 43,
   "metadata": {},
   "outputs": [],
   "source": [
    "x_train_images=[]\n",
    "for x in x_train:\n",
    "    try:\n",
    "        img=imread(pristine_path+x)\n",
    "    except FileNotFoundError:\n",
    "        img=imread(fake_path+x)\n",
    "    \n",
    "    x_train_images.append(img)"
   ]
  },
  {
   "cell_type": "code",
   "execution_count": 44,
   "metadata": {},
   "outputs": [],
   "source": [
    "x_train_mask_names=[]\n",
    "for ind, x in enumerate(x_train):\n",
    "    if y_train[ind]==1:\n",
    "        x_train_mask_names.append(x.split('.')[0]+'.mask.png')"
   ]
  },
  {
   "cell_type": "code",
   "execution_count": 45,
   "metadata": {},
   "outputs": [],
   "source": [
    "x_train_fakes_names=[]\n",
    "x_train_fake_images=[]\n",
    "for ind, x in enumerate(x_train):\n",
    "    if y_train[ind]==1:\n",
    "        x_train_fakes_names.append(x)\n",
    "        x_train_fake_images.append(x_train_images[ind])"
   ]
  },
  {
   "cell_type": "code",
   "execution_count": 46,
   "metadata": {},
   "outputs": [],
   "source": [
    "x_train_pristines_names=[]\n",
    "x_train_pristine_images=[]\n",
    "for ind, x in enumerate(x_train):\n",
    "    if y_train[ind]==0:\n",
    "        x_train_pristines_names.append(x)\n",
    "        x_train_pristine_images.append(x_train_images[ind])"
   ]
  },
  {
   "cell_type": "code",
   "execution_count": 47,
   "metadata": {},
   "outputs": [],
   "source": [
    "x_train_masks=[]\n",
    "for m in x_train_mask_names:\n",
    "    \n",
    "    img=imread(mask_path+m)\n",
    "    \n",
    "    if len(img.shape)>2:\n",
    "        img=img[:,:,0]\n",
    "        \n",
    "    x_train_masks.append(img)"
   ]
  },
  {
   "cell_type": "markdown",
   "metadata": {},
   "source": [
    "## Mask Images"
   ]
  },
  {
   "cell_type": "markdown",
   "metadata": {},
   "source": [
    "Save setiap image mask dipisah\" jadi 9 file pickle masing\" nyimpen 40 file image masks"
   ]
  },
  {
   "cell_type": "code",
   "execution_count": 54,
   "metadata": {},
   "outputs": [],
   "source": [
    "with open('pickle/images/x_train_masks_0.pickle', 'wb') as f:\n",
    "    pickle.dump(x_train_masks[:40], f)\n",
    "with open('pickle/images/x_train_masks_1.pickle', 'wb') as f:\n",
    "    pickle.dump(x_train_masks[40:80], f)\n",
    "with open('pickle/images/x_train_masks_2.pickle', 'wb') as f:\n",
    "    pickle.dump(x_train_masks[80:120], f)    \n",
    "with open('pickle/images/x_train_masks_3.pickle', 'wb') as f:\n",
    "    pickle.dump(x_train_masks[120:160], f)\n",
    "with open('pickle/images/x_train_masks_4.pickle', 'wb') as f:\n",
    "    pickle.dump(x_train_masks[160:200], f)\n",
    "with open('pickle/images/x_train_masks_5.pickle', 'wb') as f:\n",
    "    pickle.dump(x_train_masks[200:240], f)\n",
    "with open('pickle/images/x_train_masks_6.pickle', 'wb') as f:\n",
    "    pickle.dump(x_train_masks[240:280], f)\n",
    "with open('pickle/images/x_train_masks_7.pickle', 'wb') as f:\n",
    "    pickle.dump(x_train_masks[280:320], f)\n",
    "with open('pickle/images/x_train_masks_8.pickle', 'wb') as f:\n",
    "    pickle.dump(x_train_masks[320:360], f)"
   ]
  },
  {
   "cell_type": "markdown",
   "metadata": {},
   "source": [
    "## Fake Names"
   ]
  },
  {
   "cell_type": "code",
   "execution_count": 55,
   "metadata": {},
   "outputs": [],
   "source": [
    "with open('pickle/images_names/x_train_fakes_names.pickle', 'wb') as f:\n",
    "    pickle.dump(x_train_fakes_names, f)"
   ]
  },
  {
   "cell_type": "markdown",
   "metadata": {},
   "source": [
    "## Mask Names"
   ]
  },
  {
   "cell_type": "code",
   "execution_count": 56,
   "metadata": {},
   "outputs": [],
   "source": [
    "with open('pickle/images_names/x_train_masks_names.pickle', 'wb') as f:\n",
    "    pickle.dump(x_train_mask_names, f)"
   ]
  },
  {
   "cell_type": "markdown",
   "metadata": {},
   "source": [
    "## Pristine Names"
   ]
  },
  {
   "cell_type": "code",
   "execution_count": 57,
   "metadata": {},
   "outputs": [],
   "source": [
    "with open('pickle/images_names/x_train_pristines_names.pickle', 'wb') as f:\n",
    "    pickle.dump(x_train_pristines_names, f)"
   ]
  },
  {
   "cell_type": "markdown",
   "metadata": {},
   "source": [
    "# Pickle Based On Sample Data"
   ]
  },
  {
   "cell_type": "markdown",
   "metadata": {},
   "source": [
    "## Fakes"
   ]
  },
  {
   "cell_type": "markdown",
   "metadata": {},
   "source": [
    "Jalanin sample_fake.py and sample_fake_binaries.py untuk generate file k64 grayscale 40percent stride32/sample_fakes_np.npy dan k64 binary 25percent stride8/sample_fakes_np.npy"
   ]
  },
  {
   "cell_type": "markdown",
   "metadata": {},
   "source": [
    "## Pristine"
   ]
  },
  {
   "cell_type": "code",
   "execution_count": 58,
   "metadata": {},
   "outputs": [],
   "source": [
    "def sample_random(img, num_samples, stride=8):\n",
    "    kernel_size=64\n",
    "    \n",
    "    x_start=0\n",
    "    y_start=0\n",
    "    samples=[]\n",
    "    \n",
    "    for y_start in range(0, img.shape[0] - kernel_size + 1, stride):\n",
    "        for x_start in range(0, img.shape[1] - kernel_size + 1, stride):\n",
    "\n",
    "            #c_255 = count_255(mask[y_start:y_start + kernel_size, x_start:x_start + kernel_size])\n",
    "\n",
    "            #if (c_255 > threshold) and (kernel_size * kernel_size - c_255 > threshold):\n",
    "            samples.append(img[y_start:y_start + kernel_size, x_start:x_start + kernel_size, :3])\n",
    "\n",
    "    \n",
    "    indices=np.random.randint(0, len(samples), min(len(samples), num_samples))\n",
    "    \n",
    "    sampled=[]\n",
    "    for i in indices:\n",
    "        sampled.append(samples[i])\n",
    "    \n",
    "    return sampled"
   ]
  },
  {
   "cell_type": "markdown",
   "metadata": {},
   "source": [
    "some images have all pixels=0 those images have been manually deleted -> ????"
   ]
  },
  {
   "cell_type": "code",
   "execution_count": 59,
   "metadata": {},
   "outputs": [
    {
     "data": {
      "text/plain": [
       "820"
      ]
     },
     "execution_count": 59,
     "metadata": {},
     "output_type": "execute_result"
    }
   ],
   "source": [
    "len(x_train_pristine_images)"
   ]
  },
  {
   "cell_type": "code",
   "execution_count": 60,
   "metadata": {},
   "outputs": [],
   "source": [
    "x_train_pristine_images = x_train_pristine_images[:807]"
   ]
  },
  {
   "cell_type": "code",
   "execution_count": 61,
   "metadata": {},
   "outputs": [
    {
     "data": {
      "text/plain": [
       "807"
      ]
     },
     "execution_count": 61,
     "metadata": {},
     "output_type": "execute_result"
    }
   ],
   "source": [
    "len(x_train_pristine_images)"
   ]
  },
  {
   "cell_type": "code",
   "execution_count": 62,
   "metadata": {},
   "outputs": [
    {
     "data": {
      "text/plain": [
       "360"
      ]
     },
     "execution_count": 62,
     "metadata": {},
     "output_type": "execute_result"
    }
   ],
   "source": [
    "len(x_train_fake_images)"
   ]
  },
  {
   "cell_type": "markdown",
   "metadata": {},
   "source": [
    "### Grayscale"
   ]
  },
  {
   "cell_type": "markdown",
   "metadata": {},
   "source": [
    "6 samples per pristine image"
   ]
  },
  {
   "cell_type": "code",
   "execution_count": 63,
   "metadata": {},
   "outputs": [
    {
     "name": "stdout",
     "output_type": "stream",
     "text": [
      "4842\n"
     ]
    }
   ],
   "source": [
    "samples_pristine_grayscale=np.ndarray(shape=(4842, 64, 64, 3), dtype=np.dtype('uint8'))\n",
    "\n",
    "i=0\n",
    "for pristine_img in x_train_pristine_images:\n",
    "    \n",
    "    samples=sample_random(pristine_img, 6, stride=32)\n",
    "    for sample in samples:\n",
    "        samples_pristine_grayscale[i, :, :, :]=sample\n",
    "        i+=1\n",
    "print(i)"
   ]
  },
  {
   "cell_type": "markdown",
   "metadata": {},
   "source": [
    "### Binaries"
   ]
  },
  {
   "cell_type": "markdown",
   "metadata": {},
   "source": [
    "217 samples per pristine image"
   ]
  },
  {
   "cell_type": "code",
   "execution_count": 65,
   "metadata": {},
   "outputs": [
    {
     "name": "stdout",
     "output_type": "stream",
     "text": [
      "175119\n"
     ]
    }
   ],
   "source": [
    "samples_pristine_binary=np.ndarray(shape=(175119, 64, 64, 3), dtype=np.dtype('uint8'))\n",
    "\n",
    "i=0\n",
    "for pristine_img in x_train_pristine_images:\n",
    "    \n",
    "    samples=sample_random(pristine_img, 217)\n",
    "    for j, sample in enumerate(samples):\n",
    "        samples_pristine_binary[i, :, :, :]=sample\n",
    "        i+=1\n",
    "print(i)"
   ]
  },
  {
   "cell_type": "code",
   "execution_count": 66,
   "metadata": {},
   "outputs": [
    {
     "name": "stdout",
     "output_type": "stream",
     "text": [
      "number of pristine samples in\n",
      "1. binary mask extraction using stride of 8 = 175119\n",
      "2. in grayscale mask extraction using stride of 32 = 4842\n"
     ]
    }
   ],
   "source": [
    "print(f'number of pristine samples in\\n1. binary mask extraction using stride of 8 = {len(samples_pristine_binary)}\\n\\\n",
    "2. in grayscale mask extraction using stride of 32 = {len(samples_pristine_grayscale)}')"
   ]
  },
  {
   "cell_type": "code",
   "execution_count": 69,
   "metadata": {},
   "outputs": [],
   "source": [
    "np.save('sample_images/k64 grayscale 40percent stride32/samples_pristine.npy', samples_pristine_grayscale)\n",
    "np.save('sample_images/k64 binary 25percent stride8/samples_pristine.npy', samples_pristine_binary)"
   ]
  },
  {
   "cell_type": "code",
   "execution_count": null,
   "metadata": {},
   "outputs": [],
   "source": []
  }
 ],
 "metadata": {
  "kernelspec": {
   "display_name": "Python 3",
   "language": "python",
   "name": "python3"
  },
  "language_info": {
   "codemirror_mode": {
    "name": "ipython",
    "version": 3
   },
   "file_extension": ".py",
   "mimetype": "text/x-python",
   "name": "python",
   "nbconvert_exporter": "python",
   "pygments_lexer": "ipython3",
   "version": "3.8.5"
  }
 },
 "nbformat": 4,
 "nbformat_minor": 4
}
