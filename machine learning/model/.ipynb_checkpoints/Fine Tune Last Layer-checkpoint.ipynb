{
 "cells": [
  {
   "cell_type": "code",
   "execution_count": 1,
   "metadata": {},
   "outputs": [],
   "source": [
    "import numpy as np\n",
    "from keras import applications\n",
    "from keras.models import load_model\n",
    "from keras.models import Sequential\n",
    "from keras.layers import Dense, Flatten, Dropout\n",
    "from keras import optimizers"
   ]
  },
  {
   "cell_type": "code",
   "execution_count": 2,
   "metadata": {},
   "outputs": [],
   "source": []
  },
  {
   "cell_type": "code",
   "execution_count": 2,
   "metadata": {},
   "outputs": [],
   "source": [
    "x_train=np.load('dataset/x_train_np.npy')\n",
    "x_cv=np.load('dataset/x_cv_np.npy')\n",
    "y_train=np.load('dataset/y_train_np.npy')\n",
    "y_cv=np.load('dataset/y_cv_np.npy')"
   ]
  },
  {
   "cell_type": "code",
   "execution_count": 27,
   "metadata": {},
   "outputs": [],
   "source": [
    "x_test=np.load('dataset/x_test_np.npy', allow_pickle=True)\n",
    "y_test=np.load('dataset/y_test_np.npy')"
   ]
  },
  {
   "cell_type": "code",
   "execution_count": null,
   "metadata": {},
   "outputs": [],
   "source": []
  },
  {
   "cell_type": "code",
   "execution_count": 3,
   "metadata": {},
   "outputs": [
    {
     "name": "stdout",
     "output_type": "stream",
     "text": [
      "Downloading data from https://storage.googleapis.com/tensorflow/keras-applications/vgg16/vgg16_weights_tf_dim_ordering_tf_kernels_notop.h5\n",
      "58892288/58889256 [==============================] - 26s 0us/step\n"
     ]
    }
   ],
   "source": [
    "# load VGG16\n",
    "vgg_model=applications.VGG16(weights='imagenet', include_top=False, input_shape=(64,64,3))"
   ]
  },
  {
   "cell_type": "code",
   "execution_count": 18,
   "metadata": {},
   "outputs": [],
   "source": [
    "model_aug=Sequential()\n",
    "model_aug.add(vgg_model)"
   ]
  },
  {
   "cell_type": "code",
   "execution_count": 19,
   "metadata": {},
   "outputs": [],
   "source": [
    "top_model=Sequential()\n",
    "top_model.add(Flatten(input_shape=(2, 2, 512)))\n",
    "top_model.add(Dense(64, activation='relu'))\n",
    "top_model.add(Dense(1, activation='sigmoid'))\n",
    "model_aug.add(top_model)"
   ]
  },
  {
   "cell_type": "code",
   "execution_count": 22,
   "metadata": {},
   "outputs": [],
   "source": [
    "for layer in model_aug.layers[0].layers[:17]:\n",
    "    layer.trainable=False"
   ]
  },
  {
   "cell_type": "code",
   "execution_count": 23,
   "metadata": {},
   "outputs": [],
   "source": [
    "model_aug.compile(loss='binary_crossentropy', optimizer=optimizers.Adam(lr=1e-6), metrics=['accuracy'])"
   ]
  },
  {
   "cell_type": "code",
   "execution_count": 24,
   "metadata": {},
   "outputs": [
    {
     "name": "stdout",
     "output_type": "stream",
     "text": [
      "Model: \"sequential\"\n",
      "_________________________________________________________________\n",
      "Layer (type)                 Output Shape              Param #   \n",
      "=================================================================\n",
      "vgg16 (Functional)           (None, 2, 2, 512)         14714688  \n",
      "_________________________________________________________________\n",
      "sequential_1 (Sequential)    (None, 1)                 131201    \n",
      "=================================================================\n",
      "Total params: 14,845,889\n",
      "Trainable params: 2,491,009\n",
      "Non-trainable params: 12,354,880\n",
      "_________________________________________________________________\n"
     ]
    }
   ],
   "source": [
    "model_aug.summary()"
   ]
  },
  {
   "cell_type": "code",
   "execution_count": 25,
   "metadata": {},
   "outputs": [
    {
     "name": "stdout",
     "output_type": "stream",
     "text": [
      "Epoch 1/35\n",
      "213/213 [==============================] - 81s 382ms/step - loss: 3.1480 - accuracy: 0.5116 - val_loss: 3.0871 - val_accuracy: 0.5153\n",
      "Epoch 2/35\n",
      "213/213 [==============================] - 82s 384ms/step - loss: 2.7221 - accuracy: 0.5294 - val_loss: 2.8136 - val_accuracy: 0.5259\n",
      "Epoch 3/35\n",
      "213/213 [==============================] - 83s 390ms/step - loss: 2.4093 - accuracy: 0.5447 - val_loss: 2.6164 - val_accuracy: 0.5348\n",
      "Epoch 4/35\n",
      "213/213 [==============================] - 564s 3s/step - loss: 2.1709 - accuracy: 0.5604 - val_loss: 2.4688 - val_accuracy: 0.5431\n",
      "Epoch 5/35\n",
      "213/213 [==============================] - 89s 420ms/step - loss: 1.9799 - accuracy: 0.5731 - val_loss: 2.3534 - val_accuracy: 0.5489\n",
      "Epoch 6/35\n",
      "213/213 [==============================] - 88s 414ms/step - loss: 1.8217 - accuracy: 0.5874 - val_loss: 2.2616 - val_accuracy: 0.5537\n",
      "Epoch 7/35\n",
      "213/213 [==============================] - 84s 395ms/step - loss: 1.6850 - accuracy: 0.6010 - val_loss: 2.1814 - val_accuracy: 0.5612\n",
      "Epoch 8/35\n",
      "213/213 [==============================] - 83s 391ms/step - loss: 1.5652 - accuracy: 0.6165 - val_loss: 2.1151 - val_accuracy: 0.5636\n",
      "Epoch 9/35\n",
      "213/213 [==============================] - 84s 396ms/step - loss: 1.4588 - accuracy: 0.6285 - val_loss: 2.0545 - val_accuracy: 0.5664\n",
      "Epoch 10/35\n",
      "213/213 [==============================] - 255s 1s/step - loss: 1.3621 - accuracy: 0.6363 - val_loss: 2.0026 - val_accuracy: 0.5722\n",
      "Epoch 11/35\n",
      "213/213 [==============================] - 87s 409ms/step - loss: 1.2746 - accuracy: 0.6465 - val_loss: 1.9549 - val_accuracy: 0.5767\n",
      "Epoch 12/35\n",
      "213/213 [==============================] - 84s 396ms/step - loss: 1.1939 - accuracy: 0.6556 - val_loss: 1.9151 - val_accuracy: 0.5804\n",
      "Epoch 13/35\n",
      "213/213 [==============================] - 84s 394ms/step - loss: 1.1201 - accuracy: 0.6660 - val_loss: 1.8776 - val_accuracy: 0.5870\n",
      "Epoch 14/35\n",
      "213/213 [==============================] - 84s 393ms/step - loss: 1.0520 - accuracy: 0.6781 - val_loss: 1.8439 - val_accuracy: 0.5856\n",
      "Epoch 15/35\n",
      "213/213 [==============================] - 138s 650ms/step - loss: 0.9887 - accuracy: 0.6894 - val_loss: 1.8132 - val_accuracy: 0.5901\n",
      "Epoch 16/35\n",
      "213/213 [==============================] - 203s 954ms/step - loss: 0.9309 - accuracy: 0.6997 - val_loss: 1.7854 - val_accuracy: 0.5921\n",
      "Epoch 17/35\n",
      "213/213 [==============================] - 195s 913ms/step - loss: 0.8775 - accuracy: 0.7113 - val_loss: 1.7608 - val_accuracy: 0.5955\n",
      "Epoch 18/35\n",
      "213/213 [==============================] - 192s 900ms/step - loss: 0.8280 - accuracy: 0.7218 - val_loss: 1.7380 - val_accuracy: 0.5969\n",
      "Epoch 19/35\n",
      "213/213 [==============================] - 189s 889ms/step - loss: 0.7819 - accuracy: 0.7328 - val_loss: 1.7163 - val_accuracy: 0.5993\n",
      "Epoch 20/35\n",
      "213/213 [==============================] - 190s 893ms/step - loss: 0.7394 - accuracy: 0.7416 - val_loss: 1.6979 - val_accuracy: 0.6034\n",
      "Epoch 21/35\n",
      "213/213 [==============================] - 185s 867ms/step - loss: 0.6996 - accuracy: 0.7494 - val_loss: 1.6789 - val_accuracy: 0.6051\n",
      "Epoch 22/35\n",
      "213/213 [==============================] - 296s 1s/step - loss: 0.6631 - accuracy: 0.7588 - val_loss: 1.6626 - val_accuracy: 0.6079\n",
      "Epoch 23/35\n",
      "213/213 [==============================] - 219s 1s/step - loss: 0.6296 - accuracy: 0.7690 - val_loss: 1.6475 - val_accuracy: 0.6089\n",
      "Epoch 24/35\n",
      "213/213 [==============================] - 201s 945ms/step - loss: 0.5974 - accuracy: 0.7763 - val_loss: 1.6332 - val_accuracy: 0.6134\n",
      "Epoch 25/35\n",
      "213/213 [==============================] - 190s 894ms/step - loss: 0.5682 - accuracy: 0.7841 - val_loss: 1.6192 - val_accuracy: 0.6117\n",
      "Epoch 26/35\n",
      "213/213 [==============================] - 223s 1s/step - loss: 0.5406 - accuracy: 0.7937 - val_loss: 1.6083 - val_accuracy: 0.6137\n",
      "Epoch 27/35\n",
      "213/213 [==============================] - 156s 733ms/step - loss: 0.5145 - accuracy: 0.8006 - val_loss: 1.5966 - val_accuracy: 0.6158\n",
      "Epoch 28/35\n",
      "213/213 [==============================] - 64s 300ms/step - loss: 0.4900 - accuracy: 0.8100 - val_loss: 1.5861 - val_accuracy: 0.6172\n",
      "Epoch 29/35\n",
      "213/213 [==============================] - 64s 301ms/step - loss: 0.4673 - accuracy: 0.8163 - val_loss: 1.5766 - val_accuracy: 0.6196\n",
      "Epoch 30/35\n",
      "213/213 [==============================] - 64s 298ms/step - loss: 0.4457 - accuracy: 0.8241 - val_loss: 1.5668 - val_accuracy: 0.6213\n",
      "Epoch 31/35\n",
      "213/213 [==============================] - 64s 301ms/step - loss: 0.4257 - accuracy: 0.8322 - val_loss: 1.5574 - val_accuracy: 0.6230\n",
      "Epoch 32/35\n",
      "213/213 [==============================] - 64s 299ms/step - loss: 0.4066 - accuracy: 0.8366 - val_loss: 1.5491 - val_accuracy: 0.6247\n",
      "Epoch 33/35\n",
      "213/213 [==============================] - 64s 298ms/step - loss: 0.3889 - accuracy: 0.8438 - val_loss: 1.5421 - val_accuracy: 0.6278\n",
      "Epoch 34/35\n",
      "213/213 [==============================] - 67s 315ms/step - loss: 0.3721 - accuracy: 0.8521 - val_loss: 1.5339 - val_accuracy: 0.6312\n",
      "Epoch 35/35\n",
      "213/213 [==============================] - 95s 446ms/step - loss: 0.3566 - accuracy: 0.8579 - val_loss: 1.5271 - val_accuracy: 0.6319\n"
     ]
    },
    {
     "data": {
      "text/plain": [
       "<tensorflow.python.keras.callbacks.History at 0x20749d52490>"
      ]
     },
     "execution_count": 25,
     "metadata": {},
     "output_type": "execute_result"
    }
   ],
   "source": [
    "model_aug.fit(x_train, y_train, epochs=35, batch_size=32, validation_data=(x_cv, y_cv), verbose=1)"
   ]
  },
  {
   "cell_type": "code",
   "execution_count": 30,
   "metadata": {},
   "outputs": [
    {
     "data": {
      "text/plain": [
       "768"
      ]
     },
     "execution_count": 30,
     "metadata": {},
     "output_type": "execute_result"
    }
   ],
   "source": [
    "len(model_aug.predict(x_test[1]))"
   ]
  },
  {
   "cell_type": "code",
   "execution_count": null,
   "metadata": {},
   "outputs": [],
   "source": []
  }
 ],
 "metadata": {
  "kernelspec": {
   "display_name": "Python 3",
   "language": "python",
   "name": "python3"
  },
  "language_info": {
   "codemirror_mode": {
    "name": "ipython",
    "version": 3
   },
   "file_extension": ".py",
   "mimetype": "text/x-python",
   "name": "python",
   "nbconvert_exporter": "python",
   "pygments_lexer": "ipython3",
   "version": "3.8.8"
  }
 },
 "nbformat": 4,
 "nbformat_minor": 4
}
