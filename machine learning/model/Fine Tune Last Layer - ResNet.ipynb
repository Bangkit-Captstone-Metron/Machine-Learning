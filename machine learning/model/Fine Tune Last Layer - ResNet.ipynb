{
 "cells": [
  {
   "cell_type": "code",
   "execution_count": 53,
   "metadata": {},
   "outputs": [],
   "source": [
    "import numpy as np\n",
    "from keras import applications, callbacks\n",
    "from keras.models import load_model\n",
    "from keras.models import Sequential\n",
    "from keras.layers import Dense, Flatten, Dropout\n",
    "from keras import optimizers\n",
    "\n",
    "import keras.backend as K"
   ]
  },
  {
   "cell_type": "code",
   "execution_count": null,
   "metadata": {},
   "outputs": [],
   "source": []
  },
  {
   "cell_type": "code",
   "execution_count": 54,
   "metadata": {},
   "outputs": [],
   "source": [
    "x_train=np.load('dataset/x_train_np.npy')\n",
    "x_cv=np.load('dataset/x_cv_np.npy')\n",
    "y_train=np.load('dataset/y_train_np.npy')\n",
    "y_cv=np.load('dataset/y_cv_np.npy')"
   ]
  },
  {
   "cell_type": "code",
   "execution_count": 55,
   "metadata": {},
   "outputs": [],
   "source": [
    "x_test=np.load('dataset/x_test_np.npy', allow_pickle=True)\n",
    "y_test=np.load('dataset/y_test_np.npy')"
   ]
  },
  {
   "cell_type": "code",
   "execution_count": null,
   "metadata": {},
   "outputs": [],
   "source": []
  },
  {
   "cell_type": "markdown",
   "metadata": {},
   "source": [
    "ResNet50 Bottleneck"
   ]
  },
  {
   "cell_type": "code",
   "execution_count": 56,
   "metadata": {},
   "outputs": [
    {
     "name": "stdout",
     "output_type": "stream",
     "text": [
      "(2, 2, 2048)\n"
     ]
    }
   ],
   "source": [
    "model = applications.resnet50.ResNet50(weights='imagenet', include_top=False)\n",
    "\n",
    "x_train_bottleneck = model.predict(x_train)\n",
    "x_cv_bottleneck = model.predict(x_cv)\n",
    "\n",
    "np.save('dataset/x_train_bottleneck_resnet.npy', x_train_bottleneck)\n",
    "np.save('dataset/x_cv_bottleneck_resnet.npy', x_cv_bottleneck)\n",
    "\n",
    "print(x_train_bottleneck[0].shape)"
   ]
  },
  {
   "cell_type": "code",
   "execution_count": 57,
   "metadata": {},
   "outputs": [
    {
     "data": {
      "text/plain": [
       "array([[[0.       , 0.       , 0.       , ..., 0.       , 0.       ,\n",
       "         0.       ],\n",
       "        [0.       , 0.       , 0.       , ..., 1.3101416, 0.9303782,\n",
       "         1.0126715]],\n",
       "\n",
       "       [[0.       , 0.       , 0.       , ..., 6.6205463, 0.       ,\n",
       "         0.       ],\n",
       "        [0.       , 0.       , 0.       , ..., 1.1534111, 0.       ,\n",
       "         0.       ]]], dtype=float32)"
      ]
     },
     "execution_count": 57,
     "metadata": {},
     "output_type": "execute_result"
    }
   ],
   "source": [
    "x_train_bottleneck[0]"
   ]
  },
  {
   "cell_type": "code",
   "execution_count": 58,
   "metadata": {},
   "outputs": [],
   "source": [
    "x_train_bottleneck = np.load('dataset/x_train_bottleneck_resnet.npy')\n",
    "x_cv_bottleneck = np.load('dataset/x_cv_bottleneck_resnet.npy')"
   ]
  },
  {
   "cell_type": "code",
   "execution_count": 59,
   "metadata": {},
   "outputs": [
    {
     "data": {
      "text/plain": [
       "(2, 2, 2048)"
      ]
     },
     "execution_count": 59,
     "metadata": {},
     "output_type": "execute_result"
    }
   ],
   "source": [
    "x_train_bottleneck.shape[1:]"
   ]
  },
  {
   "cell_type": "markdown",
   "metadata": {},
   "source": [
    "Top Model"
   ]
  },
  {
   "cell_type": "code",
   "execution_count": 60,
   "metadata": {},
   "outputs": [
    {
     "data": {
      "text/plain": [
       "(6800, 2, 2, 2048)"
      ]
     },
     "execution_count": 60,
     "metadata": {},
     "output_type": "execute_result"
    }
   ],
   "source": [
    "x_train_bottleneck.shape"
   ]
  },
  {
   "cell_type": "code",
   "execution_count": 61,
   "metadata": {},
   "outputs": [],
   "source": [
    "top_model=Sequential()\n",
    "top_model.add(Flatten(input_shape=x_train_bottleneck.shape[1:]))\n",
    "top_model.add(Dense(64, activation='relu'))\n",
    "# top_model.add(Dropout(0.5))\n",
    "top_model.add(Dense(1, activation='sigmoid'))\n",
    "\n",
    "top_model.compile(optimizer='adam',\n",
    "              loss='binary_crossentropy',\n",
    "              metrics=['accuracy'])"
   ]
  },
  {
   "cell_type": "code",
   "execution_count": 62,
   "metadata": {},
   "outputs": [
    {
     "name": "stdout",
     "output_type": "stream",
     "text": [
      "Model: \"sequential_6\"\n",
      "_________________________________________________________________\n",
      "Layer (type)                 Output Shape              Param #   \n",
      "=================================================================\n",
      "flatten_5 (Flatten)          (None, 8192)              0         \n",
      "_________________________________________________________________\n",
      "dense_10 (Dense)             (None, 64)                524352    \n",
      "_________________________________________________________________\n",
      "dense_11 (Dense)             (None, 1)                 65        \n",
      "=================================================================\n",
      "Total params: 524,417\n",
      "Trainable params: 524,417\n",
      "Non-trainable params: 0\n",
      "_________________________________________________________________\n"
     ]
    }
   ],
   "source": [
    "top_model.summary()"
   ]
  },
  {
   "cell_type": "code",
   "execution_count": 63,
   "metadata": {},
   "outputs": [],
   "source": [
    "class Custom_lr(callbacks.Callback):\n",
    "\n",
    "    def on_train_begin(self, logs={}):\n",
    "\t    K.set_value(self.model.optimizer.lr, 0.001)\n",
    " \n",
    "    def on_epoch_begin(self, epoch, logs={}):\n",
    "        lr_present=K.get_value(self.model.optimizer.lr)\n",
    "        #print(epoch)\n",
    "        if (epoch%10==0) and epoch:\n",
    "        \t\n",
    "            K.set_value(self.model.optimizer.lr, lr_present/((epoch)**0.5))\n",
    "            print(K.get_value(self.model.optimizer.lr))\n",
    "            print(lr_present/((epoch)**0.5))\n",
    "\n",
    "callbacks = [\n",
    "    Custom_lr()\n",
    "    ]"
   ]
  },
  {
   "cell_type": "code",
   "execution_count": 64,
   "metadata": {},
   "outputs": [
    {
     "name": "stdout",
     "output_type": "stream",
     "text": [
      "Epoch 1/35\n",
      "213/213 [==============================] - 1s 6ms/step - loss: 0.6483 - accuracy: 0.6599 - val_loss: 0.5744 - val_accuracy: 0.7074\n",
      "Epoch 2/35\n",
      "213/213 [==============================] - 1s 6ms/step - loss: 0.4712 - accuracy: 0.7712 - val_loss: 0.5471 - val_accuracy: 0.7293\n",
      "Epoch 3/35\n",
      "213/213 [==============================] - 1s 6ms/step - loss: 0.3450 - accuracy: 0.8401 - val_loss: 0.5617 - val_accuracy: 0.7266\n",
      "Epoch 4/35\n",
      "213/213 [==============================] - 1s 6ms/step - loss: 0.2257 - accuracy: 0.9057 - val_loss: 0.5883 - val_accuracy: 0.7523\n",
      "Epoch 5/35\n",
      "213/213 [==============================] - 1s 6ms/step - loss: 0.1499 - accuracy: 0.9437 - val_loss: 0.6585 - val_accuracy: 0.7516\n",
      "Epoch 6/35\n",
      "213/213 [==============================] - 1s 6ms/step - loss: 0.1034 - accuracy: 0.9650 - val_loss: 0.7732 - val_accuracy: 0.7630\n",
      "Epoch 7/35\n",
      "213/213 [==============================] - 1s 5ms/step - loss: 0.0665 - accuracy: 0.9782 - val_loss: 0.7542 - val_accuracy: 0.7667\n",
      "Epoch 8/35\n",
      "213/213 [==============================] - 1s 5ms/step - loss: 0.0464 - accuracy: 0.9854 - val_loss: 0.8474 - val_accuracy: 0.7688\n",
      "Epoch 9/35\n",
      "213/213 [==============================] - 1s 7ms/step - loss: 0.0357 - accuracy: 0.9888 - val_loss: 0.8385 - val_accuracy: 0.7780\n",
      "Epoch 10/35\n",
      "213/213 [==============================] - 1s 7ms/step - loss: 0.0308 - accuracy: 0.9887 - val_loss: 0.8943 - val_accuracy: 0.7664\n",
      "0.0003162278\n",
      "0.00031622778103685084\n",
      "Epoch 11/35\n",
      "213/213 [==============================] - 1s 6ms/step - loss: 0.0216 - accuracy: 0.9931 - val_loss: 0.8831 - val_accuracy: 0.7753\n",
      "Epoch 12/35\n",
      "213/213 [==============================] - 1s 6ms/step - loss: 0.0171 - accuracy: 0.9943 - val_loss: 0.9000 - val_accuracy: 0.7732\n",
      "Epoch 13/35\n",
      "213/213 [==============================] - 1s 6ms/step - loss: 0.0163 - accuracy: 0.9944 - val_loss: 0.9094 - val_accuracy: 0.7756\n",
      "Epoch 14/35\n",
      "213/213 [==============================] - 1s 6ms/step - loss: 0.0151 - accuracy: 0.9938 - val_loss: 0.9210 - val_accuracy: 0.7691\n",
      "Epoch 15/35\n",
      "213/213 [==============================] - 1s 6ms/step - loss: 0.0148 - accuracy: 0.9950 - val_loss: 0.9415 - val_accuracy: 0.7722\n",
      "Epoch 16/35\n",
      "213/213 [==============================] - 1s 6ms/step - loss: 0.0135 - accuracy: 0.9957 - val_loss: 0.9687 - val_accuracy: 0.7719\n",
      "Epoch 17/35\n",
      "213/213 [==============================] - 1s 6ms/step - loss: 0.0136 - accuracy: 0.9949 - val_loss: 0.9729 - val_accuracy: 0.7722\n",
      "Epoch 18/35\n",
      "213/213 [==============================] - 1s 6ms/step - loss: 0.0131 - accuracy: 0.9943 - val_loss: 0.9871 - val_accuracy: 0.7732\n",
      "Epoch 19/35\n",
      "213/213 [==============================] - 1s 6ms/step - loss: 0.0116 - accuracy: 0.9960 - val_loss: 0.9918 - val_accuracy: 0.7705\n",
      "Epoch 20/35\n",
      "213/213 [==============================] - 1s 6ms/step - loss: 0.0104 - accuracy: 0.9966 - val_loss: 1.0125 - val_accuracy: 0.7750\n",
      "7.071068e-05\n",
      "7.071068264135355e-05\n",
      "Epoch 21/35\n",
      "213/213 [==============================] - 1s 6ms/step - loss: 0.0091 - accuracy: 0.9968 - val_loss: 1.0132 - val_accuracy: 0.7732\n",
      "Epoch 22/35\n",
      "213/213 [==============================] - 1s 6ms/step - loss: 0.0089 - accuracy: 0.9971 - val_loss: 1.0224 - val_accuracy: 0.7715\n",
      "Epoch 23/35\n",
      "213/213 [==============================] - 1s 6ms/step - loss: 0.0088 - accuracy: 0.9969 - val_loss: 1.0239 - val_accuracy: 0.7760\n",
      "Epoch 24/35\n",
      "213/213 [==============================] - 1s 7ms/step - loss: 0.0086 - accuracy: 0.9974 - val_loss: 1.0295 - val_accuracy: 0.7756\n",
      "Epoch 25/35\n",
      "213/213 [==============================] - 1s 7ms/step - loss: 0.0085 - accuracy: 0.9972 - val_loss: 1.0357 - val_accuracy: 0.7756\n",
      "Epoch 26/35\n",
      "213/213 [==============================] - 1s 5ms/step - loss: 0.0084 - accuracy: 0.9972 - val_loss: 1.0353 - val_accuracy: 0.7753\n",
      "Epoch 27/35\n",
      "213/213 [==============================] - 1s 5ms/step - loss: 0.0083 - accuracy: 0.9971 - val_loss: 1.0391 - val_accuracy: 0.7726\n",
      "Epoch 28/35\n",
      "213/213 [==============================] - 1s 6ms/step - loss: 0.0081 - accuracy: 0.9975 - val_loss: 1.0513 - val_accuracy: 0.7736\n",
      "Epoch 29/35\n",
      "213/213 [==============================] - 1s 6ms/step - loss: 0.0081 - accuracy: 0.9972 - val_loss: 1.0521 - val_accuracy: 0.7729\n",
      "Epoch 30/35\n",
      "213/213 [==============================] - 1s 6ms/step - loss: 0.0079 - accuracy: 0.9974 - val_loss: 1.0563 - val_accuracy: 0.7729\n",
      "1.2909945e-05\n",
      "1.2909945018820682e-05\n",
      "Epoch 31/35\n",
      "213/213 [==============================] - 1s 6ms/step - loss: 0.0075 - accuracy: 0.9975 - val_loss: 1.0581 - val_accuracy: 0.7746\n",
      "Epoch 32/35\n",
      "213/213 [==============================] - 1s 6ms/step - loss: 0.0075 - accuracy: 0.9972 - val_loss: 1.0608 - val_accuracy: 0.7736\n",
      "Epoch 33/35\n",
      "213/213 [==============================] - 1s 6ms/step - loss: 0.0075 - accuracy: 0.9974 - val_loss: 1.0616 - val_accuracy: 0.7739\n",
      "Epoch 34/35\n",
      "213/213 [==============================] - 1s 6ms/step - loss: 0.0074 - accuracy: 0.9972 - val_loss: 1.0627 - val_accuracy: 0.7739\n",
      "Epoch 35/35\n",
      "213/213 [==============================] - 1s 5ms/step - loss: 0.0074 - accuracy: 0.9974 - val_loss: 1.0645 - val_accuracy: 0.7743\n"
     ]
    },
    {
     "data": {
      "text/plain": [
       "<tensorflow.python.keras.callbacks.History at 0x1a1965a8a60>"
      ]
     },
     "execution_count": 64,
     "metadata": {},
     "output_type": "execute_result"
    }
   ],
   "source": [
    "top_model.fit(x_train_bottleneck, y_train,\n",
    "          epochs=35,\n",
    "          batch_size=32,\n",
    "          validation_data=(x_cv_bottleneck, y_cv), callbacks=callbacks,)"
   ]
  },
  {
   "cell_type": "code",
   "execution_count": 65,
   "metadata": {},
   "outputs": [],
   "source": [
    "top_model.save('top_model_resnet_full_data_custom_lr_weights.h5') # best"
   ]
  },
  {
   "cell_type": "code",
   "execution_count": null,
   "metadata": {},
   "outputs": [],
   "source": []
  },
  {
   "cell_type": "markdown",
   "metadata": {},
   "source": [
    "Fine Tune Model"
   ]
  },
  {
   "cell_type": "code",
   "execution_count": 66,
   "metadata": {},
   "outputs": [],
   "source": [
    "x_train = np.load('dataset/x_train_np.npy')\n",
    "x_cv = np.load('dataset/x_cv_np.npy')\n",
    "\n",
    "y_train=np.load('dataset/y_train_np.npy')\n",
    "y_cv=np.load('dataset/y_cv_np.npy')"
   ]
  },
  {
   "cell_type": "code",
   "execution_count": 67,
   "metadata": {},
   "outputs": [],
   "source": [
    "resnet_model=applications.resnet50.ResNet50(weights='imagenet', include_top=False, input_shape=(64,64,3))"
   ]
  },
  {
   "cell_type": "code",
   "execution_count": 68,
   "metadata": {},
   "outputs": [],
   "source": [
    "model_aug=Sequential()\n",
    "model_aug.add(resnet_model)"
   ]
  },
  {
   "cell_type": "code",
   "execution_count": 69,
   "metadata": {},
   "outputs": [],
   "source": [
    "top_model=Sequential()\n",
    "top_model.add(Flatten(input_shape=(2, 2, 2048)))\n",
    "top_model.add(Dense(64, activation='relu'))\n",
    "top_model.add(Dense(1, activation='sigmoid'))\n",
    "top_model.load_weights('top_model_resnet_full_data_custom_lr_weights.h5')\n",
    "\n",
    "model_aug.add(top_model)"
   ]
  },
  {
   "cell_type": "code",
   "execution_count": 70,
   "metadata": {},
   "outputs": [],
   "source": [
    "for layer in model_aug.layers[0].layers[:171]:\n",
    "    layer.trainable=False"
   ]
  },
  {
   "cell_type": "code",
   "execution_count": 71,
   "metadata": {},
   "outputs": [],
   "source": [
    "model_aug.compile(loss='binary_crossentropy', optimizer=optimizers.Adam(lr=1e-3), metrics=['accuracy'])"
   ]
  },
  {
   "cell_type": "code",
   "execution_count": 72,
   "metadata": {
    "scrolled": true
   },
   "outputs": [
    {
     "name": "stdout",
     "output_type": "stream",
     "text": [
      "Model: \"sequential_7\"\n",
      "_________________________________________________________________\n",
      "Layer (type)                 Output Shape              Param #   \n",
      "=================================================================\n",
      "resnet50 (Functional)        (None, 2, 2, 2048)        23587712  \n",
      "_________________________________________________________________\n",
      "sequential_8 (Sequential)    (None, 1)                 524417    \n",
      "=================================================================\n",
      "Total params: 24,112,129\n",
      "Trainable params: 1,579,137\n",
      "Non-trainable params: 22,532,992\n",
      "_________________________________________________________________\n"
     ]
    }
   ],
   "source": [
    "model_aug.summary()"
   ]
  },
  {
   "cell_type": "code",
   "execution_count": 73,
   "metadata": {
    "scrolled": true
   },
   "outputs": [
    {
     "name": "stdout",
     "output_type": "stream",
     "text": [
      "Epoch 1/35\n",
      "213/213 [==============================] - 83s 391ms/step - loss: 0.2610 - accuracy: 0.9168 - val_loss: 0.9323 - val_accuracy: 0.7283\n",
      "Epoch 2/35\n",
      "213/213 [==============================] - 82s 384ms/step - loss: 0.1255 - accuracy: 0.9540 - val_loss: 0.9370 - val_accuracy: 0.7530\n",
      "Epoch 3/35\n",
      "213/213 [==============================] - 83s 390ms/step - loss: 0.1034 - accuracy: 0.9654 - val_loss: 1.0176 - val_accuracy: 0.7571\n",
      "Epoch 4/35\n",
      "213/213 [==============================] - 95s 448ms/step - loss: 0.0664 - accuracy: 0.9762 - val_loss: 1.2324 - val_accuracy: 0.7431\n",
      "Epoch 5/35\n",
      "213/213 [==============================] - 89s 418ms/step - loss: 0.0584 - accuracy: 0.9796 - val_loss: 1.0217 - val_accuracy: 0.7633\n",
      "Epoch 6/35\n",
      "213/213 [==============================] - 82s 386ms/step - loss: 0.0461 - accuracy: 0.9834 - val_loss: 0.9541 - val_accuracy: 0.7695\n",
      "Epoch 7/35\n",
      "213/213 [==============================] - 83s 388ms/step - loss: 0.0303 - accuracy: 0.9888 - val_loss: 1.0497 - val_accuracy: 0.7708\n",
      "Epoch 8/35\n",
      "213/213 [==============================] - 85s 399ms/step - loss: 0.0275 - accuracy: 0.9890 - val_loss: 1.0077 - val_accuracy: 0.7681\n",
      "Epoch 9/35\n",
      "213/213 [==============================] - 91s 426ms/step - loss: 0.0187 - accuracy: 0.9916 - val_loss: 1.0884 - val_accuracy: 0.7753\n",
      "Epoch 10/35\n",
      "213/213 [==============================] - 91s 428ms/step - loss: 0.0368 - accuracy: 0.9871 - val_loss: 1.1674 - val_accuracy: 0.7633\n",
      "Epoch 11/35\n",
      "213/213 [==============================] - 83s 389ms/step - loss: 0.0337 - accuracy: 0.9874 - val_loss: 1.2270 - val_accuracy: 0.7581\n",
      "Epoch 12/35\n",
      "213/213 [==============================] - 100s 469ms/step - loss: 0.0650 - accuracy: 0.9813 - val_loss: 1.2601 - val_accuracy: 0.7599\n",
      "Epoch 13/35\n",
      "213/213 [==============================] - 79s 373ms/step - loss: 0.0652 - accuracy: 0.9775 - val_loss: 1.1325 - val_accuracy: 0.7698\n",
      "Epoch 14/35\n",
      "213/213 [==============================] - 78s 366ms/step - loss: 0.0338 - accuracy: 0.9853 - val_loss: 1.0808 - val_accuracy: 0.7708\n",
      "Epoch 15/35\n",
      "213/213 [==============================] - 76s 355ms/step - loss: 0.0213 - accuracy: 0.9919 - val_loss: 1.0868 - val_accuracy: 0.7719\n",
      "Epoch 16/35\n",
      "213/213 [==============================] - 77s 360ms/step - loss: 0.0138 - accuracy: 0.9935 - val_loss: 1.1441 - val_accuracy: 0.7753\n",
      "Epoch 17/35\n",
      "213/213 [==============================] - 82s 387ms/step - loss: 0.0154 - accuracy: 0.9944 - val_loss: 1.1631 - val_accuracy: 0.7729\n",
      "Epoch 18/35\n",
      "213/213 [==============================] - 78s 367ms/step - loss: 0.0117 - accuracy: 0.9962 - val_loss: 1.1801 - val_accuracy: 0.7712\n",
      "Epoch 19/35\n",
      "213/213 [==============================] - 77s 362ms/step - loss: 0.0350 - accuracy: 0.9888 - val_loss: 1.2463 - val_accuracy: 0.7715\n",
      "Epoch 20/35\n",
      "213/213 [==============================] - 77s 363ms/step - loss: 0.0457 - accuracy: 0.9854 - val_loss: 1.3080 - val_accuracy: 0.7612\n",
      "Epoch 21/35\n",
      "213/213 [==============================] - 79s 369ms/step - loss: 0.0474 - accuracy: 0.9835 - val_loss: 1.4046 - val_accuracy: 0.7643\n",
      "Epoch 22/35\n",
      "213/213 [==============================] - 79s 369ms/step - loss: 0.0433 - accuracy: 0.9849 - val_loss: 1.3112 - val_accuracy: 0.7695\n",
      "Epoch 23/35\n",
      "213/213 [==============================] - 74s 348ms/step - loss: 0.0414 - accuracy: 0.9866 - val_loss: 1.4512 - val_accuracy: 0.7643\n",
      "Epoch 24/35\n",
      "213/213 [==============================] - 80s 374ms/step - loss: 0.0292 - accuracy: 0.9924 - val_loss: 1.2617 - val_accuracy: 0.7770\n",
      "Epoch 25/35\n",
      "213/213 [==============================] - 79s 370ms/step - loss: 0.0098 - accuracy: 0.9956 - val_loss: 1.2584 - val_accuracy: 0.7798\n",
      "Epoch 26/35\n",
      "213/213 [==============================] - 84s 396ms/step - loss: 0.0076 - accuracy: 0.9965 - val_loss: 1.2743 - val_accuracy: 0.7811\n",
      "Epoch 27/35\n",
      "213/213 [==============================] - 81s 379ms/step - loss: 0.0070 - accuracy: 0.9974 - val_loss: 1.2895 - val_accuracy: 0.7804\n",
      "Epoch 28/35\n",
      "213/213 [==============================] - 81s 380ms/step - loss: 0.0068 - accuracy: 0.9963 - val_loss: 1.2908 - val_accuracy: 0.7784\n",
      "Epoch 29/35\n",
      "213/213 [==============================] - 88s 412ms/step - loss: 0.0064 - accuracy: 0.9975 - val_loss: 1.3186 - val_accuracy: 0.7804\n",
      "Epoch 30/35\n",
      "213/213 [==============================] - 75s 354ms/step - loss: 0.0084 - accuracy: 0.9956 - val_loss: 1.3031 - val_accuracy: 0.7784\n",
      "Epoch 31/35\n",
      "213/213 [==============================] - 80s 374ms/step - loss: 0.0065 - accuracy: 0.9960 - val_loss: 1.3238 - val_accuracy: 0.7804\n",
      "Epoch 32/35\n",
      "213/213 [==============================] - 80s 374ms/step - loss: 0.0080 - accuracy: 0.9960 - val_loss: 1.3498 - val_accuracy: 0.7832\n",
      "Epoch 33/35\n",
      "213/213 [==============================] - 79s 369ms/step - loss: 0.0369 - accuracy: 0.9872 - val_loss: 1.2675 - val_accuracy: 0.7746\n",
      "Epoch 34/35\n",
      "213/213 [==============================] - 79s 369ms/step - loss: 0.0783 - accuracy: 0.9787 - val_loss: 1.5516 - val_accuracy: 0.7633\n",
      "Epoch 35/35\n",
      "213/213 [==============================] - 77s 361ms/step - loss: 0.0548 - accuracy: 0.9849 - val_loss: 1.3900 - val_accuracy: 0.7678\n"
     ]
    },
    {
     "data": {
      "text/plain": [
       "<tensorflow.python.keras.callbacks.History at 0x1a1992cf2e0>"
      ]
     },
     "execution_count": 73,
     "metadata": {},
     "output_type": "execute_result"
    }
   ],
   "source": [
    "model_aug.fit(x_train, y_train, epochs=35, batch_size=32, validation_data=(x_cv, y_cv), verbose=1)"
   ]
  },
  {
   "cell_type": "code",
   "execution_count": 76,
   "metadata": {},
   "outputs": [],
   "source": [
    "model_aug.save('fine_tuned_model_resnet_adam_weights_new_35epoch.h5')"
   ]
  },
  {
   "cell_type": "code",
   "execution_count": 75,
   "metadata": {},
   "outputs": [
    {
     "data": {
      "text/plain": [
       "<matplotlib.image.AxesImage at 0x1a1ec487820>"
      ]
     },
     "execution_count": 75,
     "metadata": {},
     "output_type": "execute_result"
    },
    {
     "data": {
      "image/png": "[encoded data removed]",
      "text/plain": [
       "<Figure size 432x288 with 1 Axes>"
      ]
     },
     "metadata": {
      "needs_background": "light"
     },
     "output_type": "display_data"
    }
   ],
   "source": [
    "import matplotlib.pyplot as plt\n",
    "\n",
    "plt.imshow(x_train[1])"
   ]
  },
  {
   "cell_type": "code",
   "execution_count": 42,
   "metadata": {
    "scrolled": true
   },
   "outputs": [
    {
     "data": {
      "text/plain": [
       "<matplotlib.image.AxesImage at 0x1a1b7d2a250>"
      ]
     },
     "execution_count": 42,
     "metadata": {},
     "output_type": "execute_result"
    },
    {
     "data": {
      "image/png": "[encoded data removed]",
      "text/plain": [
       "<Figure size 432x288 with 1 Axes>"
      ]
     },
     "metadata": {
      "needs_background": "light"
     },
     "output_type": "display_data"
    }
   ],
   "source": [
    "plt.imshow(x_test[1][0])"
   ]
  },
  {
   "cell_type": "code",
   "execution_count": 149,
   "metadata": {},
   "outputs": [
    {
     "name": "stdout",
     "output_type": "stream",
     "text": [
      "[0] Fake False\n",
      "[1] Fake False\n",
      "[2] Fake False\n",
      "[3] Fake True\n",
      "[4] Fake False\n",
      "[5] Fake True\n",
      "[6] Fake False\n"
     ]
    }
   ],
   "source": [
    "i = 0\n",
    "for data in x_test[3:10]:\n",
    "    result = model_aug.predict(data)\n",
    "    print(f'[{i}] Fake {(result > 0.75).sum()/len(result) <= 0.25}')\n",
    "    i+=1"
   ]
  },
  {
   "cell_type": "code",
   "execution_count": 102,
   "metadata": {
    "scrolled": false
   },
   "outputs": [
    {
     "name": "stdout",
     "output_type": "stream",
     "text": [
      "Max: [1.], Min: [2.295853e-11]\n"
     ]
    }
   ],
   "source": [
    "result = model_aug.predict(x_test[10])\n",
    "print(f'Max: {max(result)}, Min: {min(result)}')"
   ]
  },
  {
   "cell_type": "code",
   "execution_count": 100,
   "metadata": {},
   "outputs": [
    {
     "data": {
      "text/plain": [
       "1"
      ]
     },
     "execution_count": 100,
     "metadata": {},
     "output_type": "execute_result"
    }
   ],
   "source": [
    "y_test[220]"
   ]
  },
  {
   "cell_type": "code",
   "execution_count": 101,
   "metadata": {
    "scrolled": true
   },
   "outputs": [
    {
     "data": {
      "text/plain": [
       "array([[9.1445446e-04, 2.2598803e-03, 7.9812050e-02, 9.9640334e-01,\n",
       "        1.3844490e-02, 1.3983201e-06, 3.0139506e-02, 9.9808096e-07,\n",
       "        5.8822036e-03, 1.2648800e-01, 7.4787766e-01, 6.0313940e-04,\n",
       "        1.8473077e-06, 1.0452455e-05, 4.3603677e-07, 6.9673558e-07],\n",
       "       [5.7512301e-07, 1.4875323e-02, 1.2804747e-02, 4.1979551e-04,\n",
       "        8.1878400e-01, 1.0000000e+00, 9.9796498e-01, 2.5364757e-04,\n",
       "        9.9601716e-01, 3.0555409e-01, 4.2076111e-03, 9.9926955e-01,\n",
       "        9.9881554e-01, 6.4523047e-05, 3.8576229e-07, 1.3376660e-05],\n",
       "       [5.1900744e-03, 1.4890134e-03, 6.2037066e-07, 1.3156068e-05,\n",
       "        7.5560808e-03, 5.1801676e-01, 9.5696080e-01, 9.9986696e-01,\n",
       "        4.5154837e-07, 7.9190451e-01, 2.3629063e-01, 8.2844496e-04,\n",
       "        2.6588752e-06, 9.9596453e-01, 6.3081330e-01, 9.9890882e-01],\n",
       "       [5.1956242e-01, 5.3042769e-03, 1.5091747e-02, 9.9998540e-01,\n",
       "        9.9828804e-01, 2.2721291e-04, 2.9186338e-02, 1.0000000e+00,\n",
       "        2.1402538e-02, 6.7108589e-01, 1.5690359e-01, 1.2748173e-07,\n",
       "        2.3921641e-05, 8.7647504e-01, 1.6220334e-01, 8.2732813e-06],\n",
       "       [2.4831295e-04, 7.9722410e-01, 2.2958529e-11, 6.9634616e-03,\n",
       "        7.9545658e-05, 4.1116178e-03, 2.7468443e-01, 9.8371506e-04,\n",
       "        3.2201856e-02, 9.3763447e-01, 1.1937875e-05, 1.8344551e-02,\n",
       "        9.9998695e-01, 6.5711063e-01, 1.2648106e-04, 1.1385834e-01],\n",
       "       [8.4611980e-05, 3.3700883e-02, 9.9863482e-01, 6.6534165e-05,\n",
       "        8.1592390e-07, 2.7217142e-09, 3.6809764e-09, 1.0135524e-09,\n",
       "        1.4675779e-08, 2.4671535e-05, 2.3734176e-10, 2.3925962e-08,\n",
       "        1.3101304e-01, 8.6936951e-01, 9.4433069e-01, 5.9942019e-01],\n",
       "       [9.1678452e-01, 1.4395243e-01, 2.1240181e-01, 7.9696038e-06,\n",
       "        1.7525256e-03, 1.2307522e-01, 1.0326612e-05, 7.0315946e-06,\n",
       "        9.9967772e-01, 7.0298171e-01, 9.6862316e-03, 8.4933394e-01,\n",
       "        7.4779514e-06, 1.5522732e-05, 3.3771080e-08, 1.0000000e+00],\n",
       "       [9.9735248e-01, 6.2498152e-03, 6.5685260e-01, 1.8748556e-09,\n",
       "        1.0000000e+00, 4.8376847e-07, 6.7593753e-03, 5.0514773e-05,\n",
       "        6.4200867e-05, 2.9535592e-03, 1.4927387e-03, 9.9919260e-01,\n",
       "        5.9168274e-06, 1.5260612e-10, 6.7720276e-01, 2.4539232e-04],\n",
       "       [9.9820507e-01, 9.9516970e-01, 9.9999976e-01, 1.0000000e+00,\n",
       "        1.0000000e+00, 9.7876596e-01, 9.7100282e-01, 9.4967687e-01,\n",
       "        1.3253093e-04, 1.0697496e-06, 9.9806923e-01, 9.9797082e-01,\n",
       "        9.9999672e-01, 3.1536104e-06, 9.9994528e-01, 5.6164116e-01],\n",
       "       [9.9892193e-01, 9.7730696e-01, 9.9958766e-01, 7.7060956e-01,\n",
       "        9.9996412e-01, 9.9803793e-01, 4.9482414e-01, 5.6051278e-01,\n",
       "        9.9241012e-01, 9.9994612e-01, 1.0000000e+00, 9.9999881e-01,\n",
       "        1.0000000e+00, 1.0000000e+00, 1.0000000e+00, 2.1199079e-05],\n",
       "       [5.9661299e-01, 9.9866855e-01, 9.9990773e-01, 9.4708335e-01,\n",
       "        9.6885777e-01, 9.9999779e-01, 9.5938456e-01, 8.7300539e-03,\n",
       "        9.9684286e-01, 9.8179185e-01, 8.4915698e-01, 4.6747625e-01,\n",
       "        9.9993443e-01, 9.9988556e-01, 9.6652961e-01, 3.1517148e-02],\n",
       "       [9.9939334e-01, 9.9545187e-01, 9.9177158e-01, 9.7304595e-01,\n",
       "        9.9998671e-01, 9.9946690e-01, 9.9963969e-01, 9.5970213e-01,\n",
       "        9.8433745e-01, 9.9405193e-01, 9.9994570e-01, 9.8091578e-01,\n",
       "        9.9999374e-01, 1.0000000e+00, 2.5500655e-03, 9.9015361e-01]],\n",
       "      dtype=float32)"
      ]
     },
     "execution_count": 101,
     "metadata": {},
     "output_type": "execute_result"
    }
   ],
   "source": [
    "result.reshape(12, 16)"
   ]
  },
  {
   "cell_type": "code",
   "execution_count": 106,
   "metadata": {},
   "outputs": [
    {
     "data": {
      "text/plain": [
       "False"
      ]
     },
     "execution_count": 106,
     "metadata": {},
     "output_type": "execute_result"
    }
   ],
   "source": [
    "np.count_nonzero(result > 0.5)/len(result) > 0.5"
   ]
  },
  {
   "cell_type": "code",
   "execution_count": 82,
   "metadata": {},
   "outputs": [
    {
     "data": {
      "text/plain": [
       "192"
      ]
     },
     "execution_count": 82,
     "metadata": {},
     "output_type": "execute_result"
    }
   ],
   "source": [
    "len(result)"
   ]
  },
  {
   "cell_type": "code",
   "execution_count": 102,
   "metadata": {},
   "outputs": [
    {
     "data": {
      "text/plain": [
       "(64, 64, 3)"
      ]
     },
     "execution_count": 102,
     "metadata": {},
     "output_type": "execute_result"
    }
   ],
   "source": [
    "x_train[1].shape"
   ]
  },
  {
   "cell_type": "code",
   "execution_count": null,
   "metadata": {},
   "outputs": [],
   "source": [
    "x_test[1]"
   ]
  },
  {
   "cell_type": "code",
   "execution_count": 113,
   "metadata": {},
   "outputs": [],
   "source": [
    "result = model_aug.predict_classes(x_test[2])"
   ]
  },
  {
   "cell_type": "code",
   "execution_count": 105,
   "metadata": {},
   "outputs": [
    {
     "data": {
      "text/plain": [
       "array([[1],\n",
       "       [1],\n",
       "       [1],\n",
       "       ...,\n",
       "       [0],\n",
       "       [1],\n",
       "       [1]])"
      ]
     },
     "execution_count": 105,
     "metadata": {},
     "output_type": "execute_result"
    }
   ],
   "source": []
  }
 ],
 "metadata": {
  "kernelspec": {
   "display_name": "Python 3",
   "language": "python",
   "name": "python3"
  },
  "language_info": {
   "codemirror_mode": {
    "name": "ipython",
    "version": 3
   },
   "file_extension": ".py",
   "mimetype": "text/x-python",
   "name": "python",
   "nbconvert_exporter": "python",
   "pygments_lexer": "ipython3",
   "version": "3.8.8"
  }
 },
 "nbformat": 4,
 "nbformat_minor": 4
}
