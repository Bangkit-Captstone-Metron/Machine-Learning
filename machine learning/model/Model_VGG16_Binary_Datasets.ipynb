{
 "cells": [
  {
   "cell_type": "code",
   "execution_count": 2,
   "metadata": {
    "id": "-PqFNWNJT-5y"
   },
   "outputs": [],
   "source": [
    "import numpy as np\n",
    "from keras import applications, callbacks\n",
    "from keras.models import load_model\n",
    "from keras.models import Sequential\n",
    "from keras.layers import Dense, Flatten, Dropout\n",
    "from keras import optimizers\n",
    "from keras.applications import vgg16\n",
    "\n",
    "import keras.backend as K"
   ]
  },
  {
   "cell_type": "code",
   "execution_count": 3,
   "metadata": {
    "colab": {
     "base_uri": "https://localhost:8080/"
    },
    "id": "MJDSzI2qf0vU",
    "outputId": "3a2309b1-c904-4124-a91a-f627551acacc"
   },
   "outputs": [
    {
     "name": "stdout",
     "output_type": "stream",
     "text": [
      "Mounted at /content/drive\n"
     ]
    }
   ],
   "source": [
    "from google.colab import drive\n",
    "drive.mount('/content/drive')"
   ]
  },
  {
   "cell_type": "code",
   "execution_count": 4,
   "metadata": {
    "colab": {
     "base_uri": "https://localhost:8080/"
    },
    "id": "8mDxFWIMf0xh",
    "outputId": "54c56a4f-f343-45b3-b397-d4ced13b557d"
   },
   "outputs": [
    {
     "name": "stdout",
     "output_type": "stream",
     "text": [
      "drive  sample_data\n"
     ]
    }
   ],
   "source": [
    "!ls"
   ]
  },
  {
   "cell_type": "code",
   "execution_count": 5,
   "metadata": {
    "id": "1knVm_6torBi"
   },
   "outputs": [],
   "source": [
    "datasetPath = 'drive/MyDrive/Capstone Project/dataset_binaries/'\n",
    "savedModelPath = 'drive/MyDrive/Capstone Project/saved_models_binaries/'"
   ]
  },
  {
   "cell_type": "code",
   "execution_count": 6,
   "metadata": {
    "id": "oO1bYC-AkYr5"
   },
   "outputs": [],
   "source": [
    "x_train=np.load(datasetPath + 'x_train_np.npy')\n",
    "x_cv=np.load(datasetPath + 'x_cv_np.npy')\n",
    "y_train=np.load(datasetPath + 'y_train_np.npy')\n",
    "y_cv=np.load(datasetPath + 'y_cv_np.npy')"
   ]
  },
  {
   "cell_type": "markdown",
   "metadata": {
    "id": "8MhTiwwNk9gk"
   },
   "source": [
    "VGG16 Bottleneck"
   ]
  },
  {
   "cell_type": "code",
   "execution_count": null,
   "metadata": {
    "id": "RcfQ-N2lrurj"
   },
   "outputs": [],
   "source": []
  },
  {
   "cell_type": "code",
   "execution_count": null,
   "metadata": {
    "colab": {
     "base_uri": "https://localhost:8080/"
    },
    "id": "IEN9rxH_kYwp",
    "outputId": "a07f8dd5-efad-48ed-d84d-7808fb1e2625"
   },
   "outputs": [
    {
     "name": "stdout",
     "output_type": "stream",
     "text": [
      "Downloading data from https://storage.googleapis.com/tensorflow/keras-applications/vgg16/vgg16_weights_tf_dim_ordering_tf_kernels_notop.h5\n",
      "58892288/58889256 [==============================] - 1s 0us/step\n",
      "58900480/58889256 [==============================] - 1s 0us/step\n",
      "(2, 2, 512)\n"
     ]
    }
   ],
   "source": [
    "model = vgg16.VGG16(weights='imagenet', include_top=False)\n",
    "\n",
    "\n",
    "x_train_bottleneck = model.predict(x_train)\n",
    "x_cv_bottleneck = model.predict(x_cv)\n",
    "\n",
    "np.save(datasetPath + 'x_train_bottleneck.npy', x_train_bottleneck)\n",
    "np.save(datasetPath + 'x_cv_bottleneck.npy', x_cv_bottleneck)\n",
    "\n",
    "print(x_train_bottleneck[0].shape)"
   ]
  },
  {
   "cell_type": "code",
   "execution_count": null,
   "metadata": {
    "colab": {
     "base_uri": "https://localhost:8080/"
    },
    "id": "JiiMRo-alKs9",
    "outputId": "016c108a-3938-4111-fd24-16c2d62e4f14"
   },
   "outputs": [
    {
     "data": {
      "text/plain": [
       "array([[[ 0.       ,  0.       ,  0.       , ...,  0.       ,\n",
       "          4.7718086,  0.       ],\n",
       "        [ 0.       ,  0.       ,  0.       , ...,  0.       ,\n",
       "          7.3983874,  0.       ]],\n",
       "\n",
       "       [[51.17156  ,  0.       ,  0.       , ...,  0.       ,\n",
       "          0.       ,  0.       ],\n",
       "        [15.45649  ,  0.       ,  0.       , ...,  0.       ,\n",
       "          0.       ,  0.       ]]], dtype=float32)"
      ]
     },
     "execution_count": 15,
     "metadata": {
      "tags": []
     },
     "output_type": "execute_result"
    }
   ],
   "source": [
    "x_train_bottleneck[0]"
   ]
  },
  {
   "cell_type": "code",
   "execution_count": null,
   "metadata": {
    "id": "QOBzd42nlKvc"
   },
   "outputs": [],
   "source": [
    "x_train_bottleneck = np.load(datasetPath + 'x_train_bottleneck.npy')\n",
    "x_cv_bottleneck = np.load(datasetPath + 'x_cv_bottleneck.npy')"
   ]
  },
  {
   "cell_type": "code",
   "execution_count": null,
   "metadata": {
    "colab": {
     "base_uri": "https://localhost:8080/"
    },
    "id": "U1To212NlKx3",
    "outputId": "4965f823-2caf-4515-c0c5-924d5ca09171"
   },
   "outputs": [
    {
     "data": {
      "text/plain": [
       "(2, 2, 512)"
      ]
     },
     "execution_count": 9,
     "metadata": {
      "tags": []
     },
     "output_type": "execute_result"
    }
   ],
   "source": [
    "x_train_bottleneck.shape[1:]"
   ]
  },
  {
   "cell_type": "markdown",
   "metadata": {
    "id": "3gn9D6yBnBX4"
   },
   "source": [
    "Top Model"
   ]
  },
  {
   "cell_type": "code",
   "execution_count": null,
   "metadata": {
    "id": "XQjOGRoam9sv"
   },
   "outputs": [],
   "source": [
    "top_model=Sequential()\n",
    "top_model.add(Flatten(input_shape=x_train_bottleneck.shape[1:]))\n",
    "top_model.add(Dense(64, activation='relu'))\n",
    "top_model.add(Dropout(0.5))\n",
    "top_model.add(Dense(1, activation='sigmoid'))\n",
    "\n",
    "top_model.compile(optimizer='adam',\n",
    "              loss='binary_crossentropy',\n",
    "              metrics=['accuracy'])"
   ]
  },
  {
   "cell_type": "code",
   "execution_count": null,
   "metadata": {
    "colab": {
     "base_uri": "https://localhost:8080/"
    },
    "id": "mfwhkYrPm9vg",
    "outputId": "89eea502-db84-4a31-a4ff-a0560f831c52"
   },
   "outputs": [
    {
     "name": "stdout",
     "output_type": "stream",
     "text": [
      "Model: \"sequential\"\n",
      "_________________________________________________________________\n",
      "Layer (type)                 Output Shape              Param #   \n",
      "=================================================================\n",
      "flatten (Flatten)            (None, 2048)              0         \n",
      "_________________________________________________________________\n",
      "dense (Dense)                (None, 64)                131136    \n",
      "_________________________________________________________________\n",
      "dropout (Dropout)            (None, 64)                0         \n",
      "_________________________________________________________________\n",
      "dense_1 (Dense)              (None, 1)                 65        \n",
      "=================================================================\n",
      "Total params: 131,201\n",
      "Trainable params: 131,201\n",
      "Non-trainable params: 0\n",
      "_________________________________________________________________\n"
     ]
    }
   ],
   "source": [
    "top_model.summary()"
   ]
  },
  {
   "cell_type": "code",
   "execution_count": null,
   "metadata": {
    "id": "oeLBcN6zm9yD"
   },
   "outputs": [],
   "source": [
    "class Custom_lr(callbacks.Callback):\n",
    "\n",
    "    def on_train_begin(self, logs={}):\n",
    "\t    K.set_value(self.model.optimizer.lr, 0.001)\n",
    " \n",
    "    def on_epoch_begin(self, epoch, logs={}):\n",
    "        lr_present=K.get_value(self.model.optimizer.lr)\n",
    "        #print(epoch)\n",
    "        if (epoch%10==0) and epoch:\n",
    "        \t\n",
    "            K.set_value(self.model.optimizer.lr, lr_present/((epoch)**0.5))\n",
    "            print(K.get_value(self.model.optimizer.lr))\n",
    "            print(lr_present/((epoch)**0.5))\n",
    "\n",
    "callbacks = [\n",
    "    Custom_lr()\n",
    "    ]"
   ]
  },
  {
   "cell_type": "code",
   "execution_count": null,
   "metadata": {
    "colab": {
     "base_uri": "https://localhost:8080/"
    },
    "id": "-wlwKgqhm90T",
    "outputId": "25043aa6-be14-4813-de4e-16c86576b94f"
   },
   "outputs": [
    {
     "name": "stdout",
     "output_type": "stream",
     "text": [
      "Epoch 1/35\n",
      "4556/4556 [==============================] - 27s 3ms/step - loss: 0.7343 - accuracy: 0.6873 - val_loss: 0.4221 - val_accuracy: 0.8064\n",
      "Epoch 2/35\n",
      "4556/4556 [==============================] - 15s 3ms/step - loss: 0.4632 - accuracy: 0.7653 - val_loss: 0.3713 - val_accuracy: 0.8298\n",
      "Epoch 3/35\n",
      "4556/4556 [==============================] - 15s 3ms/step - loss: 0.4217 - accuracy: 0.7892 - val_loss: 0.3393 - val_accuracy: 0.8499\n",
      "Epoch 4/35\n",
      "4556/4556 [==============================] - 15s 3ms/step - loss: 0.3929 - accuracy: 0.8025 - val_loss: 0.3270 - val_accuracy: 0.8564\n",
      "Epoch 5/35\n",
      "4556/4556 [==============================] - 14s 3ms/step - loss: 0.3722 - accuracy: 0.8140 - val_loss: 0.3084 - val_accuracy: 0.8661\n",
      "Epoch 6/35\n",
      "4556/4556 [==============================] - 15s 3ms/step - loss: 0.3543 - accuracy: 0.8240 - val_loss: 0.2927 - val_accuracy: 0.8748\n",
      "Epoch 7/35\n",
      "4556/4556 [==============================] - 15s 3ms/step - loss: 0.3403 - accuracy: 0.8285 - val_loss: 0.2855 - val_accuracy: 0.8793\n",
      "Epoch 8/35\n",
      "4556/4556 [==============================] - 14s 3ms/step - loss: 0.3270 - accuracy: 0.8360 - val_loss: 0.2768 - val_accuracy: 0.8859\n",
      "Epoch 9/35\n",
      "4556/4556 [==============================] - 14s 3ms/step - loss: 0.3190 - accuracy: 0.8393 - val_loss: 0.2622 - val_accuracy: 0.8905\n",
      "Epoch 10/35\n",
      "4556/4556 [==============================] - 14s 3ms/step - loss: 0.3101 - accuracy: 0.8440 - val_loss: 0.2623 - val_accuracy: 0.8914\n",
      "Epoch 11/35\n",
      "0.0003162278\n",
      "0.00031622778103685084\n",
      "4556/4556 [==============================] - 14s 3ms/step - loss: 0.2834 - accuracy: 0.8543 - val_loss: 0.2417 - val_accuracy: 0.9023\n",
      "Epoch 12/35\n",
      "4556/4556 [==============================] - 15s 3ms/step - loss: 0.2665 - accuracy: 0.8625 - val_loss: 0.2390 - val_accuracy: 0.9036\n",
      "Epoch 13/35\n",
      "4556/4556 [==============================] - 15s 3ms/step - loss: 0.2610 - accuracy: 0.8651 - val_loss: 0.2363 - val_accuracy: 0.9063\n",
      "Epoch 14/35\n",
      "4556/4556 [==============================] - 15s 3ms/step - loss: 0.2565 - accuracy: 0.8668 - val_loss: 0.2350 - val_accuracy: 0.9080\n",
      "Epoch 15/35\n",
      "4556/4556 [==============================] - 15s 3ms/step - loss: 0.2516 - accuracy: 0.8675 - val_loss: 0.2342 - val_accuracy: 0.9091\n",
      "Epoch 16/35\n",
      "4556/4556 [==============================] - 15s 3ms/step - loss: 0.2490 - accuracy: 0.8700 - val_loss: 0.2354 - val_accuracy: 0.9101\n",
      "Epoch 17/35\n",
      "4556/4556 [==============================] - 15s 3ms/step - loss: 0.2435 - accuracy: 0.8723 - val_loss: 0.2379 - val_accuracy: 0.9098\n",
      "Epoch 18/35\n",
      "4556/4556 [==============================] - 15s 3ms/step - loss: 0.2404 - accuracy: 0.8755 - val_loss: 0.2310 - val_accuracy: 0.9107\n",
      "Epoch 19/35\n",
      "4556/4556 [==============================] - 15s 3ms/step - loss: 0.2347 - accuracy: 0.8758 - val_loss: 0.2344 - val_accuracy: 0.9126\n",
      "Epoch 20/35\n",
      "4556/4556 [==============================] - 15s 3ms/step - loss: 0.2339 - accuracy: 0.8784 - val_loss: 0.2333 - val_accuracy: 0.9125\n",
      "Epoch 21/35\n",
      "7.071068e-05\n",
      "7.071068264135355e-05\n",
      "4556/4556 [==============================] - 15s 3ms/step - loss: 0.2245 - accuracy: 0.8810 - val_loss: 0.2295 - val_accuracy: 0.9149\n",
      "Epoch 22/35\n",
      "4556/4556 [==============================] - 15s 3ms/step - loss: 0.2223 - accuracy: 0.8806 - val_loss: 0.2297 - val_accuracy: 0.9159\n",
      "Epoch 23/35\n",
      "4556/4556 [==============================] - 15s 3ms/step - loss: 0.2172 - accuracy: 0.8833 - val_loss: 0.2306 - val_accuracy: 0.9162\n",
      "Epoch 24/35\n",
      "4556/4556 [==============================] - 15s 3ms/step - loss: 0.2185 - accuracy: 0.8825 - val_loss: 0.2318 - val_accuracy: 0.9165\n",
      "Epoch 25/35\n",
      "4556/4556 [==============================] - 15s 3ms/step - loss: 0.2147 - accuracy: 0.8837 - val_loss: 0.2333 - val_accuracy: 0.9164\n",
      "Epoch 26/35\n",
      "4556/4556 [==============================] - 14s 3ms/step - loss: 0.2153 - accuracy: 0.8849 - val_loss: 0.2311 - val_accuracy: 0.9162\n",
      "Epoch 27/35\n",
      "4556/4556 [==============================] - 15s 3ms/step - loss: 0.2147 - accuracy: 0.8849 - val_loss: 0.2336 - val_accuracy: 0.9164\n",
      "Epoch 28/35\n",
      "4556/4556 [==============================] - 15s 3ms/step - loss: 0.2129 - accuracy: 0.8855 - val_loss: 0.2339 - val_accuracy: 0.9166\n",
      "Epoch 29/35\n",
      "4556/4556 [==============================] - 15s 3ms/step - loss: 0.2124 - accuracy: 0.8868 - val_loss: 0.2360 - val_accuracy: 0.9169\n",
      "Epoch 30/35\n",
      "4556/4556 [==============================] - 15s 3ms/step - loss: 0.2131 - accuracy: 0.8856 - val_loss: 0.2353 - val_accuracy: 0.9161\n",
      "Epoch 31/35\n",
      "1.2909945e-05\n",
      "1.2909945018820682e-05\n",
      "4556/4556 [==============================] - 14s 3ms/step - loss: 0.2104 - accuracy: 0.8875 - val_loss: 0.2359 - val_accuracy: 0.9166\n",
      "Epoch 32/35\n",
      "4556/4556 [==============================] - 15s 3ms/step - loss: 0.2075 - accuracy: 0.8878 - val_loss: 0.2360 - val_accuracy: 0.9169\n",
      "Epoch 33/35\n",
      "4556/4556 [==============================] - 15s 3ms/step - loss: 0.2133 - accuracy: 0.8864 - val_loss: 0.2358 - val_accuracy: 0.9168\n",
      "Epoch 34/35\n",
      "4556/4556 [==============================] - 15s 3ms/step - loss: 0.2061 - accuracy: 0.8884 - val_loss: 0.2367 - val_accuracy: 0.9169\n",
      "Epoch 35/35\n",
      "4556/4556 [==============================] - 15s 3ms/step - loss: 0.2113 - accuracy: 0.8859 - val_loss: 0.2369 - val_accuracy: 0.9166\n"
     ]
    },
    {
     "data": {
      "text/plain": [
       "<keras.callbacks.History at 0x7f615a46db90>"
      ]
     },
     "execution_count": 13,
     "metadata": {
      "tags": []
     },
     "output_type": "execute_result"
    }
   ],
   "source": [
    "top_model.fit(x_train_bottleneck, y_train,\n",
    "          epochs=35,\n",
    "          batch_size=32,\n",
    "          validation_data=(x_cv_bottleneck, y_cv), callbacks=callbacks,)"
   ]
  },
  {
   "cell_type": "code",
   "execution_count": null,
   "metadata": {
    "id": "rfds8P-xnsFI"
   },
   "outputs": [],
   "source": [
    "top_model.save(savedModelPath + 'top_model_full_data_custom_lr_weights.h5') # best"
   ]
  },
  {
   "cell_type": "markdown",
   "metadata": {
    "id": "qMHYh1Atnu6_"
   },
   "source": [
    "\n",
    "Fine Tune Model"
   ]
  },
  {
   "cell_type": "code",
   "execution_count": 7,
   "metadata": {
    "colab": {
     "base_uri": "https://localhost:8080/"
    },
    "id": "QLIUSuhonsHp",
    "outputId": "434b0640-fe8b-49c3-b714-382894bb70c5"
   },
   "outputs": [
    {
     "name": "stdout",
     "output_type": "stream",
     "text": [
      "Downloading data from https://storage.googleapis.com/tensorflow/keras-applications/vgg16/vgg16_weights_tf_dim_ordering_tf_kernels_notop.h5\n",
      "58892288/58889256 [==============================] - 1s 0us/step\n",
      "58900480/58889256 [==============================] - 1s 0us/step\n"
     ]
    }
   ],
   "source": [
    "# load VGG16\n",
    "vgg_model=vgg16.VGG16(weights='imagenet', include_top=False, input_shape=(64,64,3))"
   ]
  },
  {
   "cell_type": "code",
   "execution_count": 8,
   "metadata": {
    "id": "VhSeJl3anxPV"
   },
   "outputs": [],
   "source": [
    "model_aug=Sequential()\n",
    "model_aug.add(vgg_model)"
   ]
  },
  {
   "cell_type": "code",
   "execution_count": 9,
   "metadata": {
    "id": "blZtmOK_nxR7"
   },
   "outputs": [],
   "source": [
    "top_model=Sequential()\n",
    "top_model.add(Flatten(input_shape=(2, 2, 512)))\n",
    "top_model.add(Dense(64, activation='relu'))\n",
    "top_model.add(Dense(1, activation='sigmoid'))\n",
    "top_model.load_weights(savedModelPath + 'top_model_full_data_custom_lr_weights.h5')\n",
    "\n",
    "model_aug.add(top_model)"
   ]
  },
  {
   "cell_type": "code",
   "execution_count": 10,
   "metadata": {
    "id": "8_pjRE6qnxU3"
   },
   "outputs": [],
   "source": [
    "for layer in model_aug.layers[0].layers[:17]:\n",
    "    layer.trainable=False"
   ]
  },
  {
   "cell_type": "code",
   "execution_count": 11,
   "metadata": {
    "id": "9_mveC2Pn5QF"
   },
   "outputs": [],
   "source": [
    "model_aug.compile(loss='binary_crossentropy', optimizer=optimizers.Adam(learning_rate=1e-6), metrics=['accuracy'])"
   ]
  },
  {
   "cell_type": "code",
   "execution_count": 12,
   "metadata": {
    "colab": {
     "base_uri": "https://localhost:8080/"
    },
    "id": "ZSontQ3Cn5Rx",
    "outputId": "9523b4b6-2bc5-4143-a517-4f13c70a28d1"
   },
   "outputs": [
    {
     "name": "stdout",
     "output_type": "stream",
     "text": [
      "Model: \"sequential\"\n",
      "_________________________________________________________________\n",
      "Layer (type)                 Output Shape              Param #   \n",
      "=================================================================\n",
      "vgg16 (Functional)           (None, 2, 2, 512)         14714688  \n",
      "_________________________________________________________________\n",
      "sequential_1 (Sequential)    (None, 1)                 131201    \n",
      "=================================================================\n",
      "Total params: 14,845,889\n",
      "Trainable params: 2,491,009\n",
      "Non-trainable params: 12,354,880\n",
      "_________________________________________________________________\n"
     ]
    }
   ],
   "source": [
    "model_aug.summary()"
   ]
  },
  {
   "cell_type": "code",
   "execution_count": 13,
   "metadata": {
    "colab": {
     "base_uri": "https://localhost:8080/"
    },
    "id": "3mJfdyHqn5Ut",
    "outputId": "12a6eb8c-3b26-44f7-92aa-4655d1f2df91"
   },
   "outputs": [
    {
     "name": "stdout",
     "output_type": "stream",
     "text": [
      "145787/145787 [==============================] - 15050s 103ms/step - loss: 0.1053 - accuracy: 0.9541 - val_loss: 0.2323 - val_accuracy: 0.9282\n"
     ]
    },
    {
     "data": {
      "text/plain": [
       "<keras.callbacks.History at 0x7f3523162d50>"
      ]
     },
     "execution_count": 13,
     "metadata": {
      "tags": []
     },
     "output_type": "execute_result"
    }
   ],
   "source": [
    "model_aug.fit(x_train, y_train, epochs=1, batch_size=1, validation_data=(x_cv, y_cv), verbose=1)"
   ]
  },
  {
   "cell_type": "code",
   "execution_count": 14,
   "metadata": {
    "id": "otf_-UrBn-SW"
   },
   "outputs": [],
   "source": [
    "model_aug.save(savedModelPath + 'fine_tuned_model_adam_weights_new.h5')"
   ]
  },
  {
   "cell_type": "code",
   "execution_count": null,
   "metadata": {
    "id": "0WtWXxGXDUUO"
   },
   "outputs": [],
   "source": []
  },
  {
   "cell_type": "code",
   "execution_count": null,
   "metadata": {
    "id": "k0kb3CXioCRY"
   },
   "outputs": [],
   "source": []
  },
  {
   "cell_type": "code",
   "execution_count": null,
   "metadata": {
    "id": "9Xd9bcXMoCUA"
   },
   "outputs": [],
   "source": []
  },
  {
   "cell_type": "code",
   "execution_count": null,
   "metadata": {
    "id": "8yiZc0Evn-Uq"
   },
   "outputs": [],
   "source": []
  }
 ],
 "metadata": {
  "accelerator": "TPU",
  "colab": {
   "collapsed_sections": [],
   "name": "Copy of Model VGG16 Binary Datasets",
   "provenance": []
  },
  "kernelspec": {
   "display_name": "Python 3",
   "language": "python",
   "name": "python3"
  },
  "language_info": {
   "codemirror_mode": {
    "name": "ipython",
    "version": 3
   },
   "file_extension": ".py",
   "mimetype": "text/x-python",
   "name": "python",
   "nbconvert_exporter": "python",
   "pygments_lexer": "ipython3",
   "version": "3.8.8"
  }
 },
 "nbformat": 4,
 "nbformat_minor": 1
}
