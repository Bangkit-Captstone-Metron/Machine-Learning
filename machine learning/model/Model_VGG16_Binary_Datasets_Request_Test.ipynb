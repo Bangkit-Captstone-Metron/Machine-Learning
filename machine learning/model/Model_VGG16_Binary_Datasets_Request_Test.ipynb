{
  "nbformat": 4,
  "nbformat_minor": 0,
  "metadata": {
    "accelerator": "TPU",
    "colab": {
      "name": "Model VGG16 Binary Datasets - Real Test",
      "provenance": [],
      "collapsed_sections": []
    },
    "kernelspec": {
      "display_name": "Python 3",
      "name": "python3"
    },
    "language_info": {
      "name": "python"
    }
  },
  "cells": [
    {
      "cell_type": "code",
      "metadata": {
        "id": "-PqFNWNJT-5y"
      },
      "source": [
        "import numpy as np\n",
        "from keras import applications, callbacks\n",
        "from keras.models import load_model\n",
        "from keras.models import Sequential\n",
        "from keras.layers import Dense, Flatten, Dropout\n",
        "from keras import optimizers\n",
        "from keras.applications import vgg16\n",
        "\n",
        "import keras.backend as K"
      ],
      "execution_count": 1,
      "outputs": []
    },
    {
      "cell_type": "code",
      "metadata": {
        "id": "MJDSzI2qf0vU",
        "colab": {
          "base_uri": "https://localhost:8080/"
        },
        "outputId": "d6fdd4e6-ecc0-4c1d-a199-a35ef69aa024"
      },
      "source": [
        "from google.colab import drive\n",
        "drive.mount('/content/drive')"
      ],
      "execution_count": 2,
      "outputs": [
        {
          "output_type": "stream",
          "text": [
            "Mounted at /content/drive\n"
          ],
          "name": "stdout"
        }
      ]
    },
    {
      "cell_type": "code",
      "metadata": {
        "colab": {
          "base_uri": "https://localhost:8080/"
        },
        "id": "8mDxFWIMf0xh",
        "outputId": "5cd653ba-09ea-4eb5-f508-e64c6adc58a7"
      },
      "source": [
        "!ls"
      ],
      "execution_count": 4,
      "outputs": [
        {
          "output_type": "stream",
          "text": [
            "drive  sample_data\n"
          ],
          "name": "stdout"
        }
      ]
    },
    {
      "cell_type": "code",
      "metadata": {
        "id": "1knVm_6torBi"
      },
      "source": [
        "datasetPath = 'drive/MyDrive/Capstone Project/dataset_binaries/'\n",
        "savedModelPath = 'drive/MyDrive/Capstone Project/saved_models_binaries/'"
      ],
      "execution_count": 5,
      "outputs": []
    },
    {
      "cell_type": "code",
      "metadata": {
        "id": "oO1bYC-AkYr5"
      },
      "source": [
        "x_train=np.load(datasetPath + 'x_train_np.npy')\n",
        "x_cv=np.load(datasetPath + 'x_cv_np.npy')\n",
        "y_train=np.load(datasetPath + 'y_train_np.npy')\n",
        "y_cv=np.load(datasetPath + 'y_cv_np.npy')"
      ],
      "execution_count": 6,
      "outputs": []
    },
    {
      "cell_type": "markdown",
      "metadata": {
        "id": "qMHYh1Atnu6_"
      },
      "source": [
        "\n",
        "Fine Tune Model"
      ]
    },
    {
      "cell_type": "code",
      "metadata": {
        "id": "QLIUSuhonsHp",
        "colab": {
          "base_uri": "https://localhost:8080/"
        },
        "outputId": "6f2e6c0e-00f5-4037-cdab-1379957a1ec2"
      },
      "source": [
        "# load VGG16\n",
        "vgg_model=vgg16.VGG16(weights='imagenet', include_top=False, input_shape=(64,64,3))"
      ],
      "execution_count": 7,
      "outputs": [
        {
          "output_type": "stream",
          "text": [
            "Downloading data from https://storage.googleapis.com/tensorflow/keras-applications/vgg16/vgg16_weights_tf_dim_ordering_tf_kernels_notop.h5\n",
            "58892288/58889256 [==============================] - 1s 0us/step\n",
            "58900480/58889256 [==============================] - 1s 0us/step\n"
          ],
          "name": "stdout"
        }
      ]
    },
    {
      "cell_type": "code",
      "metadata": {
        "id": "VhSeJl3anxPV"
      },
      "source": [
        "model_aug=Sequential()\n",
        "model_aug.add(vgg_model)"
      ],
      "execution_count": 8,
      "outputs": []
    },
    {
      "cell_type": "code",
      "metadata": {
        "id": "blZtmOK_nxR7"
      },
      "source": [
        "top_model=Sequential()\n",
        "top_model.add(Flatten(input_shape=(2, 2, 512)))\n",
        "top_model.add(Dense(64, activation='relu'))\n",
        "top_model.add(Dense(1, activation='sigmoid'))\n",
        "top_model.load_weights(savedModelPath + 'top_model_full_data_custom_lr_weights.h5')\n",
        "\n",
        "model_aug.add(top_model)"
      ],
      "execution_count": 9,
      "outputs": []
    },
    {
      "cell_type": "code",
      "metadata": {
        "id": "8_pjRE6qnxU3"
      },
      "source": [
        "for layer in model_aug.layers[0].layers[:17]:\n",
        "    layer.trainable=False"
      ],
      "execution_count": 10,
      "outputs": []
    },
    {
      "cell_type": "code",
      "metadata": {
        "id": "iLt0jAstDJPB"
      },
      "source": [
        "model_aug.load_weights(savedModelPath + 'fine_tuned_model_adam_weights_new.h5')"
      ],
      "execution_count": 11,
      "outputs": []
    },
    {
      "cell_type": "code",
      "metadata": {
        "id": "9_mveC2Pn5QF"
      },
      "source": [
        "model_aug.compile(loss='binary_crossentropy', optimizer=optimizers.Adam(learning_rate=1e-6), metrics=['accuracy'])"
      ],
      "execution_count": 12,
      "outputs": []
    },
    {
      "cell_type": "code",
      "metadata": {
        "colab": {
          "base_uri": "https://localhost:8080/"
        },
        "id": "ZSontQ3Cn5Rx",
        "outputId": "d20c230c-6b2c-4fed-8c89-e9d0a3f11690"
      },
      "source": [
        "model_aug.summary()"
      ],
      "execution_count": 13,
      "outputs": [
        {
          "output_type": "stream",
          "text": [
            "Model: \"sequential\"\n",
            "_________________________________________________________________\n",
            "Layer (type)                 Output Shape              Param #   \n",
            "=================================================================\n",
            "vgg16 (Functional)           (None, 2, 2, 512)         14714688  \n",
            "_________________________________________________________________\n",
            "sequential_1 (Sequential)    (None, 1)                 131201    \n",
            "=================================================================\n",
            "Total params: 14,845,889\n",
            "Trainable params: 2,491,009\n",
            "Non-trainable params: 12,354,880\n",
            "_________________________________________________________________\n"
          ],
          "name": "stdout"
        }
      ]
    },
    {
      "cell_type": "code",
      "metadata": {
        "id": "0WtWXxGXDUUO",
        "colab": {
          "base_uri": "https://localhost:8080/",
          "height": 285
        },
        "outputId": "d8549aba-ac1b-4e29-e6a5-15e6d899cb64"
      },
      "source": [
        "import matplotlib.pyplot as plt\n",
        "\n",
        "test = x_cv[2]\n",
        "\n",
        "plt.imshow(test)"
      ],
      "execution_count": 14,
      "outputs": [
        {
          "output_type": "execute_result",
          "data": {
            "text/plain": [
              "<matplotlib.image.AxesImage at 0x7faa085313d0>"
            ]
          },
          "metadata": {
            "tags": []
          },
          "execution_count": 14
        },
        {
          "output_type": "display_data",
          "data": {
            "image/png": "[encoded data removed]",
            "text/plain": [
              "<Figure size 432x288 with 1 Axes>"
            ]
          },
          "metadata": {
            "tags": [],
            "needs_background": "light"
          }
        }
      ]
    },
    {
      "cell_type": "code",
      "metadata": {
        "id": "k0kb3CXioCRY",
        "colab": {
          "base_uri": "https://localhost:8080/"
        },
        "outputId": "5dacb84d-0f81-4cbf-b23b-7647efdb6f6f"
      },
      "source": [
        "import requests\n",
        "from imageio import imread\n",
        "\n",
        "def sample_test_image(img):\n",
        "    kernel_size = 64\n",
        "    stride = 8\n",
        "    i = 0\n",
        "\n",
        "    samples = np.ndarray(shape=(((img.shape[0] - kernel_size)//stride+1)*(\n",
        "        (img.shape[1] - kernel_size)//stride+1), 64, 64, 3), dtype=np.dtype('uint8'))\n",
        "\n",
        "    for y_start in range(0, img.shape[0] - kernel_size + 1, stride):\n",
        "        for x_start in range(0, img.shape[1] - kernel_size + 1, stride):\n",
        "            samples[i, :, :, :] = img[y_start:y_start +\n",
        "                                      kernel_size, x_start:x_start + kernel_size, :3]\n",
        "            i += 1\n",
        "\n",
        "    return samples\n",
        "\n",
        "list_url = [\n",
        "    # 'https://i.ibb.co/4j1yxMR/152681a0017a5fded699c43cd6df97d1.png', #fake from dataset\n",
        "    # 'https://i.stack.imgur.com/peB3w.png', #7 digit display\n",
        "    # 'https://i.stack.imgur.com/MIe6s.png', #7 digit display\n",
        "    # 'https://i.stack.imgur.com/2rbal.png', #7 digit display\n",
        "    # 'https://i.stack.imgur.com/KUfwD.png', #7 digit display\n",
        "    # 'https://i.stack.imgur.com/oGsK8.png',  #7 digit display\n",
        "    # 'https://medialampung.co.id/wp-content/uploads/2020/01/KWH-Pascabayar.jpg', #fake\n",
        "    # 'https://i.ibb.co/Hp4FCcZ/1622199455244.jpg', #pristine\n",
        "    # 'https://i.ibb.co/6WXN05s/13989611014162.jpg' #pristine\n",
        "    'https://i.ibb.co/gPfCLnb/31311633f92518299051f6c846919af1.png'\n",
        "]\n",
        "\n",
        "list_result = []\n",
        "\n",
        "for image_url in list_url:\n",
        "    response = requests.get(image_url)\n",
        "    original_image = imread(response.content)\n",
        "    image = sample_test_image(original_image)\n",
        "\n",
        "    result = model_aug.predict(image)\n",
        "\n",
        "    list_result.append(result)\n",
        "\n",
        "    # print(f'Url: {image_url}, Fake (0.1): {(result > 0.1).sum()/len(result)}')\n",
        "    # print(f'Url: {image_url}, Fake (0.25): {(result > 0.25).sum()/len(result)}')\n",
        "    # print(f'Url: {image_url}, Fake (0.5): {(result > 0.5).sum()/len(result)}')\n",
        "    # print(f'Url: {image_url}, Fake (0.75): {(result > 0.75).sum()/len(result)}')\n",
        "    # print(f'Url: {image_url}, Fake (0.8): {(result > 0.8).sum()/len(result)}')\n",
        "    # print(f'Url: {image_url}, Fake (0.9): {(result > 0.9).sum()/len(result)}', end=\"\\n\\n\")\n",
        "\n",
        "    print(f'Url: {image_url}, Fake (0.5): {(result > 0.5).sum()/len(result) > 0.5}')\n",
        "\n",
        "for result in list_result:\n",
        "  print(result, end=\"\\n\\n=========================================================================\\n\\n\")"
      ],
      "execution_count": 15,
      "outputs": [
        {
          "output_type": "stream",
          "text": [
            "Url: https://i.ibb.co/gPfCLnb/31311633f92518299051f6c846919af1.png, Fake (0.5): False\n",
            "[[9.323525e-10]\n",
            " [3.454715e-03]\n",
            " [6.890657e-11]\n",
            " ...\n",
            " [9.972671e-01]\n",
            " [9.695415e-01]\n",
            " [9.878453e-01]]\n",
            "\n",
            "=========================================================================\n",
            "\n"
          ],
          "name": "stdout"
        }
      ]
    },
    {
      "cell_type": "code",
      "metadata": {
        "id": "8yiZc0Evn-Uq"
      },
      "source": [
        ""
      ],
      "execution_count": null,
      "outputs": []
    }
  ]
}