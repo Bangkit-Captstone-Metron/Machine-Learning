{
 "cells": [
  {
   "cell_type": "code",
   "execution_count": 49,
   "metadata": {},
   "outputs": [],
   "source": [
    "import numpy as np\n",
    "from keras import applications, callbacks\n",
    "from keras.models import load_model\n",
    "from keras.models import Sequential\n",
    "from keras.layers import Dense, Flatten, Dropout\n",
    "from keras import optimizers\n",
    "\n",
    "import keras.backend as K"
   ]
  },
  {
   "cell_type": "code",
   "execution_count": null,
   "metadata": {},
   "outputs": [],
   "source": []
  },
  {
   "cell_type": "code",
   "execution_count": 50,
   "metadata": {},
   "outputs": [],
   "source": [
    "x_train=np.load('dataset/x_train_np.npy')\n",
    "x_cv=np.load('dataset/x_cv_np.npy')\n",
    "y_train=np.load('dataset/y_train_np.npy')\n",
    "y_cv=np.load('dataset/y_cv_np.npy')"
   ]
  },
  {
   "cell_type": "code",
   "execution_count": 51,
   "metadata": {},
   "outputs": [],
   "source": [
    "x_test=np.load('dataset/x_test_np.npy', allow_pickle=True)\n",
    "y_test=np.load('dataset/y_test_np.npy')"
   ]
  },
  {
   "cell_type": "code",
   "execution_count": null,
   "metadata": {},
   "outputs": [],
   "source": []
  },
  {
   "cell_type": "markdown",
   "metadata": {},
   "source": [
    "VGG16 Bottleneck"
   ]
  },
  {
   "cell_type": "code",
   "execution_count": 52,
   "metadata": {},
   "outputs": [
    {
     "name": "stdout",
     "output_type": "stream",
     "text": [
      "(2, 2, 512)\n"
     ]
    }
   ],
   "source": [
    "model = applications.VGG16(weights='imagenet', include_top=False)\n",
    "\n",
    "\n",
    "x_train_bottleneck = model.predict(x_train)\n",
    "x_cv_bottleneck = model.predict(x_cv)\n",
    "\n",
    "np.save('dataset/x_train_bottleneck.npy', x_train_bottleneck)\n",
    "np.save('dataset/x_cv_bottleneck.npy', x_cv_bottleneck)\n",
    "\n",
    "print(x_train_bottleneck[0].shape)"
   ]
  },
  {
   "cell_type": "code",
   "execution_count": 53,
   "metadata": {},
   "outputs": [
    {
     "data": {
      "text/plain": [
       "array([[[0., 0., 0., ..., 0., 0., 0.],\n",
       "        [0., 0., 0., ..., 0., 0., 0.]],\n",
       "\n",
       "       [[0., 0., 0., ..., 0., 0., 0.],\n",
       "        [0., 0., 0., ..., 0., 0., 0.]]], dtype=float32)"
      ]
     },
     "execution_count": 53,
     "metadata": {},
     "output_type": "execute_result"
    }
   ],
   "source": [
    "x_train_bottleneck[0]"
   ]
  },
  {
   "cell_type": "code",
   "execution_count": 54,
   "metadata": {},
   "outputs": [],
   "source": [
    "x_train_bottleneck = np.load('dataset/x_train_bottleneck.npy')\n",
    "x_cv_bottleneck = np.load('dataset/x_cv_bottleneck.npy')"
   ]
  },
  {
   "cell_type": "code",
   "execution_count": 55,
   "metadata": {},
   "outputs": [
    {
     "data": {
      "text/plain": [
       "(2, 2, 512)"
      ]
     },
     "execution_count": 55,
     "metadata": {},
     "output_type": "execute_result"
    }
   ],
   "source": [
    "x_train_bottleneck.shape[1:]"
   ]
  },
  {
   "cell_type": "markdown",
   "metadata": {},
   "source": [
    "Top Model"
   ]
  },
  {
   "cell_type": "code",
   "execution_count": 56,
   "metadata": {},
   "outputs": [],
   "source": [
    "top_model=Sequential()\n",
    "top_model.add(Flatten(input_shape=x_train_bottleneck.shape[1:]))\n",
    "top_model.add(Dense(64, activation='relu'))\n",
    "top_model.add(Dropout(0.5))\n",
    "top_model.add(Dense(1, activation='sigmoid'))\n",
    "\n",
    "top_model.compile(optimizer='adam',\n",
    "              loss='binary_crossentropy',\n",
    "              metrics=['accuracy'])"
   ]
  },
  {
   "cell_type": "code",
   "execution_count": 57,
   "metadata": {},
   "outputs": [
    {
     "name": "stdout",
     "output_type": "stream",
     "text": [
      "Model: \"sequential_8\"\n",
      "_________________________________________________________________\n",
      "Layer (type)                 Output Shape              Param #   \n",
      "=================================================================\n",
      "flatten_6 (Flatten)          (None, 2048)              0         \n",
      "_________________________________________________________________\n",
      "dense_12 (Dense)             (None, 64)                131136    \n",
      "_________________________________________________________________\n",
      "dropout_3 (Dropout)          (None, 64)                0         \n",
      "_________________________________________________________________\n",
      "dense_13 (Dense)             (None, 1)                 65        \n",
      "=================================================================\n",
      "Total params: 131,201\n",
      "Trainable params: 131,201\n",
      "Non-trainable params: 0\n",
      "_________________________________________________________________\n"
     ]
    }
   ],
   "source": [
    "top_model.summary()"
   ]
  },
  {
   "cell_type": "code",
   "execution_count": 58,
   "metadata": {},
   "outputs": [],
   "source": [
    "class Custom_lr(callbacks.Callback):\n",
    "\n",
    "    def on_train_begin(self, logs={}):\n",
    "\t    K.set_value(self.model.optimizer.lr, 0.001)\n",
    " \n",
    "    def on_epoch_begin(self, epoch, logs={}):\n",
    "        lr_present=K.get_value(self.model.optimizer.lr)\n",
    "        #print(epoch)\n",
    "        if (epoch%10==0) and epoch:\n",
    "        \t\n",
    "            K.set_value(self.model.optimizer.lr, lr_present/((epoch)**0.5))\n",
    "            print(K.get_value(self.model.optimizer.lr))\n",
    "            print(lr_present/((epoch)**0.5))\n",
    "\n",
    "callbacks = [\n",
    "    Custom_lr()\n",
    "    ]"
   ]
  },
  {
   "cell_type": "code",
   "execution_count": 59,
   "metadata": {},
   "outputs": [
    {
     "name": "stdout",
     "output_type": "stream",
     "text": [
      "Epoch 1/35\n",
      "185/213 [=========================>....] - ETA: 0s - loss: 1.3292 - accuracy: 0.5760WARNING:tensorflow:Callbacks method `on_test_batch_end` is slow compared to the batch time (batch time: 0.0000s vs `on_test_batch_end` time: 0.0010s). Check your callbacks.\n",
      "213/213 [==============================] - 1s 2ms/step - loss: 1.2477 - accuracy: 0.5741 - val_loss: 0.6316 - val_accuracy: 0.6611\n",
      "Epoch 2/35\n",
      "213/213 [==============================] - 0s 2ms/step - loss: 0.6237 - accuracy: 0.6501 - val_loss: 0.6092 - val_accuracy: 0.6786\n",
      "Epoch 3/35\n",
      "213/213 [==============================] - 0s 2ms/step - loss: 0.5723 - accuracy: 0.6904 - val_loss: 0.5951 - val_accuracy: 0.6906\n",
      "Epoch 4/35\n",
      "213/213 [==============================] - 0s 2ms/step - loss: 0.5441 - accuracy: 0.7132 - val_loss: 0.5736 - val_accuracy: 0.7043\n",
      "Epoch 5/35\n",
      "213/213 [==============================] - 0s 2ms/step - loss: 0.5185 - accuracy: 0.7266 - val_loss: 0.5992 - val_accuracy: 0.6971\n",
      "Epoch 6/35\n",
      "213/213 [==============================] - 0s 2ms/step - loss: 0.4974 - accuracy: 0.7343 - val_loss: 0.5830 - val_accuracy: 0.7173\n",
      "Epoch 7/35\n",
      "213/213 [==============================] - 0s 2ms/step - loss: 0.4710 - accuracy: 0.7449 - val_loss: 0.5942 - val_accuracy: 0.7221\n",
      "Epoch 8/35\n",
      "213/213 [==============================] - 0s 2ms/step - loss: 0.4534 - accuracy: 0.7562 - val_loss: 0.6036 - val_accuracy: 0.7235\n",
      "Epoch 9/35\n",
      "213/213 [==============================] - 0s 2ms/step - loss: 0.4390 - accuracy: 0.7672 - val_loss: 0.6105 - val_accuracy: 0.7304\n",
      "Epoch 10/35\n",
      "213/213 [==============================] - 0s 2ms/step - loss: 0.4285 - accuracy: 0.7672 - val_loss: 0.6074 - val_accuracy: 0.7348\n",
      "0.0003162278\n",
      "0.00031622778103685084\n",
      "Epoch 11/35\n",
      "213/213 [==============================] - 0s 2ms/step - loss: 0.3923 - accuracy: 0.7874 - val_loss: 0.6098 - val_accuracy: 0.7417\n",
      "Epoch 12/35\n",
      "213/213 [==============================] - 0s 2ms/step - loss: 0.3621 - accuracy: 0.7975 - val_loss: 0.6113 - val_accuracy: 0.7475\n",
      "Epoch 13/35\n",
      "213/213 [==============================] - 0s 2ms/step - loss: 0.3531 - accuracy: 0.8106 - val_loss: 0.6334 - val_accuracy: 0.7451\n",
      "Epoch 14/35\n",
      "213/213 [==============================] - 0s 2ms/step - loss: 0.3424 - accuracy: 0.8074 - val_loss: 0.6474 - val_accuracy: 0.7489\n",
      "Epoch 15/35\n",
      "213/213 [==============================] - 0s 2ms/step - loss: 0.3295 - accuracy: 0.8209 - val_loss: 0.6683 - val_accuracy: 0.7410\n",
      "Epoch 16/35\n",
      "213/213 [==============================] - 0s 2ms/step - loss: 0.3240 - accuracy: 0.8204 - val_loss: 0.6813 - val_accuracy: 0.7482\n",
      "Epoch 17/35\n",
      "213/213 [==============================] - 0s 2ms/step - loss: 0.3254 - accuracy: 0.8262 - val_loss: 0.6991 - val_accuracy: 0.7482\n",
      "Epoch 18/35\n",
      "213/213 [==============================] - 0s 2ms/step - loss: 0.3065 - accuracy: 0.8229 - val_loss: 0.7140 - val_accuracy: 0.7410\n",
      "Epoch 19/35\n",
      "213/213 [==============================] - 0s 2ms/step - loss: 0.3082 - accuracy: 0.8260 - val_loss: 0.7282 - val_accuracy: 0.7503\n",
      "Epoch 20/35\n",
      "213/213 [==============================] - 1s 2ms/step - loss: 0.2899 - accuracy: 0.8399 - val_loss: 0.7521 - val_accuracy: 0.7489\n",
      "7.071068e-05\n",
      "7.071068264135355e-05\n",
      "Epoch 21/35\n",
      "213/213 [==============================] - 0s 2ms/step - loss: 0.2825 - accuracy: 0.8397 - val_loss: 0.7443 - val_accuracy: 0.7540\n",
      "Epoch 22/35\n",
      "213/213 [==============================] - 0s 2ms/step - loss: 0.2754 - accuracy: 0.8416 - val_loss: 0.7550 - val_accuracy: 0.7516\n",
      "Epoch 23/35\n",
      "213/213 [==============================] - 0s 2ms/step - loss: 0.2711 - accuracy: 0.8457 - val_loss: 0.7656 - val_accuracy: 0.7551\n",
      "Epoch 24/35\n",
      "213/213 [==============================] - 0s 2ms/step - loss: 0.2668 - accuracy: 0.8457 - val_loss: 0.7753 - val_accuracy: 0.7540\n",
      "Epoch 25/35\n",
      "213/213 [==============================] - 0s 2ms/step - loss: 0.2662 - accuracy: 0.8460 - val_loss: 0.7892 - val_accuracy: 0.7561\n",
      "Epoch 26/35\n",
      "213/213 [==============================] - 0s 2ms/step - loss: 0.2593 - accuracy: 0.8478 - val_loss: 0.7890 - val_accuracy: 0.7568\n",
      "Epoch 27/35\n",
      "213/213 [==============================] - 0s 2ms/step - loss: 0.2582 - accuracy: 0.8512 - val_loss: 0.8041 - val_accuracy: 0.7499\n",
      "Epoch 28/35\n",
      "213/213 [==============================] - 1s 3ms/step - loss: 0.2555 - accuracy: 0.8519 - val_loss: 0.8190 - val_accuracy: 0.7513\n",
      "Epoch 29/35\n",
      "213/213 [==============================] - 1s 3ms/step - loss: 0.2567 - accuracy: 0.8500 - val_loss: 0.8258 - val_accuracy: 0.7547\n",
      "Epoch 30/35\n",
      "213/213 [==============================] - 0s 2ms/step - loss: 0.2512 - accuracy: 0.8562 - val_loss: 0.8357 - val_accuracy: 0.7540\n",
      "1.2909945e-05\n",
      "1.2909945018820682e-05\n",
      "Epoch 31/35\n",
      "213/213 [==============================] - 0s 2ms/step - loss: 0.2451 - accuracy: 0.8562 - val_loss: 0.8382 - val_accuracy: 0.7561\n",
      "Epoch 32/35\n",
      "213/213 [==============================] - 0s 2ms/step - loss: 0.2532 - accuracy: 0.8513 - val_loss: 0.8395 - val_accuracy: 0.7571\n",
      "Epoch 33/35\n",
      "213/213 [==============================] - 0s 2ms/step - loss: 0.2445 - accuracy: 0.8591 - val_loss: 0.8461 - val_accuracy: 0.7561\n",
      "Epoch 34/35\n",
      "213/213 [==============================] - 0s 2ms/step - loss: 0.2450 - accuracy: 0.8554 - val_loss: 0.8499 - val_accuracy: 0.7564\n",
      "Epoch 35/35\n",
      "213/213 [==============================] - 0s 2ms/step - loss: 0.2457 - accuracy: 0.8549 - val_loss: 0.8539 - val_accuracy: 0.7547\n"
     ]
    },
    {
     "data": {
      "text/plain": [
       "<tensorflow.python.keras.callbacks.History at 0x1b702205a60>"
      ]
     },
     "execution_count": 59,
     "metadata": {},
     "output_type": "execute_result"
    }
   ],
   "source": [
    "top_model.fit(x_train_bottleneck, y_train,\n",
    "          epochs=35,\n",
    "          batch_size=32,\n",
    "          validation_data=(x_cv_bottleneck, y_cv), callbacks=callbacks,)"
   ]
  },
  {
   "cell_type": "code",
   "execution_count": 60,
   "metadata": {},
   "outputs": [],
   "source": [
    "top_model.save('top_model_full_data_custom_lr_weights.h5') # best"
   ]
  },
  {
   "cell_type": "code",
   "execution_count": null,
   "metadata": {},
   "outputs": [],
   "source": []
  },
  {
   "cell_type": "markdown",
   "metadata": {},
   "source": [
    "Fine Tune Model"
   ]
  },
  {
   "cell_type": "code",
   "execution_count": 69,
   "metadata": {},
   "outputs": [],
   "source": [
    "x_train = np.load('dataset/x_train_np.npy')\n",
    "x_cv = np.load('dataset/x_cv_np.npy')\n",
    "\n",
    "y_train=np.load('dataset/y_train_np.npy')\n",
    "y_cv=np.load('dataset/y_cv_np.npy')"
   ]
  },
  {
   "cell_type": "code",
   "execution_count": 70,
   "metadata": {},
   "outputs": [],
   "source": [
    "# load VGG16\n",
    "vgg_model=applications.VGG16(weights='imagenet', include_top=False, input_shape=(64,64,3))"
   ]
  },
  {
   "cell_type": "code",
   "execution_count": 71,
   "metadata": {},
   "outputs": [],
   "source": [
    "model_aug=Sequential()\n",
    "model_aug.add(vgg_model)"
   ]
  },
  {
   "cell_type": "code",
   "execution_count": 72,
   "metadata": {},
   "outputs": [],
   "source": [
    "top_model=Sequential()\n",
    "top_model.add(Flatten(input_shape=(2, 2, 512)))\n",
    "top_model.add(Dense(64, activation='relu'))\n",
    "top_model.add(Dense(1, activation='sigmoid'))\n",
    "top_model.load_weights('top_model_full_data_custom_lr_weights.h5')\n",
    "\n",
    "model_aug.add(top_model)"
   ]
  },
  {
   "cell_type": "code",
   "execution_count": 73,
   "metadata": {},
   "outputs": [],
   "source": [
    "for layer in model_aug.layers[0].layers[:17]:\n",
    "    layer.trainable=False"
   ]
  },
  {
   "cell_type": "code",
   "execution_count": 74,
   "metadata": {},
   "outputs": [],
   "source": [
    "model_aug.compile(loss='binary_crossentropy', optimizer=optimizers.Adam(lr=1e-6), metrics=['accuracy'])"
   ]
  },
  {
   "cell_type": "code",
   "execution_count": 75,
   "metadata": {
    "scrolled": true
   },
   "outputs": [
    {
     "name": "stdout",
     "output_type": "stream",
     "text": [
      "Model: \"sequential_11\"\n",
      "_________________________________________________________________\n",
      "Layer (type)                 Output Shape              Param #   \n",
      "=================================================================\n",
      "vgg16 (Functional)           (None, 2, 2, 512)         14714688  \n",
      "_________________________________________________________________\n",
      "sequential_12 (Sequential)   (None, 1)                 131201    \n",
      "=================================================================\n",
      "Total params: 14,845,889\n",
      "Trainable params: 2,491,009\n",
      "Non-trainable params: 12,354,880\n",
      "_________________________________________________________________\n"
     ]
    }
   ],
   "source": [
    "model_aug.summary()"
   ]
  },
  {
   "cell_type": "code",
   "execution_count": 76,
   "metadata": {
    "scrolled": true
   },
   "outputs": [
    {
     "name": "stdout",
     "output_type": "stream",
     "text": [
      "Epoch 1/35\n",
      "213/213 [==============================] - 194s 910ms/step - loss: 0.1593 - accuracy: 0.9278 - val_loss: 0.8698 - val_accuracy: 0.7571\n",
      "Epoch 2/35\n",
      "213/213 [==============================] - 193s 904ms/step - loss: 0.1554 - accuracy: 0.9284 - val_loss: 0.8786 - val_accuracy: 0.7568\n",
      "Epoch 3/35\n",
      "213/213 [==============================] - 195s 915ms/step - loss: 0.1524 - accuracy: 0.9297 - val_loss: 0.8863 - val_accuracy: 0.7557\n",
      "Epoch 4/35\n",
      "213/213 [==============================] - 206s 965ms/step - loss: 0.1497 - accuracy: 0.9316 - val_loss: 0.8947 - val_accuracy: 0.7551\n",
      "Epoch 5/35\n",
      "213/213 [==============================] - 198s 930ms/step - loss: 0.1472 - accuracy: 0.9324 - val_loss: 0.9004 - val_accuracy: 0.7568\n",
      "Epoch 6/35\n",
      "213/213 [==============================] - 194s 909ms/step - loss: 0.1450 - accuracy: 0.9341 - val_loss: 0.9092 - val_accuracy: 0.7581\n",
      "Epoch 7/35\n",
      "213/213 [==============================] - 187s 877ms/step - loss: 0.1428 - accuracy: 0.9341 - val_loss: 0.9132 - val_accuracy: 0.7564\n",
      "Epoch 8/35\n",
      "213/213 [==============================] - 204s 955ms/step - loss: 0.1407 - accuracy: 0.9349 - val_loss: 0.9214 - val_accuracy: 0.7568\n",
      "Epoch 9/35\n",
      "213/213 [==============================] - 200s 938ms/step - loss: 0.1389 - accuracy: 0.9356 - val_loss: 0.9254 - val_accuracy: 0.7564\n",
      "Epoch 10/35\n",
      "213/213 [==============================] - 204s 959ms/step - loss: 0.1371 - accuracy: 0.9363 - val_loss: 0.9343 - val_accuracy: 0.7568\n",
      "Epoch 11/35\n",
      "213/213 [==============================] - 218s 1s/step - loss: 0.1354 - accuracy: 0.9360 - val_loss: 0.9389 - val_accuracy: 0.7568\n",
      "Epoch 12/35\n",
      "213/213 [==============================] - 203s 954ms/step - loss: 0.1337 - accuracy: 0.9378 - val_loss: 0.9464 - val_accuracy: 0.7564\n",
      "Epoch 13/35\n",
      "213/213 [==============================] - 200s 939ms/step - loss: 0.1321 - accuracy: 0.9381 - val_loss: 0.9506 - val_accuracy: 0.7564\n",
      "Epoch 14/35\n",
      "213/213 [==============================] - 194s 912ms/step - loss: 0.1306 - accuracy: 0.9382 - val_loss: 0.9570 - val_accuracy: 0.7564\n",
      "Epoch 15/35\n",
      "213/213 [==============================] - 195s 917ms/step - loss: 0.1291 - accuracy: 0.9387 - val_loss: 0.9642 - val_accuracy: 0.7578\n",
      "Epoch 16/35\n",
      "213/213 [==============================] - 189s 887ms/step - loss: 0.1275 - accuracy: 0.9407 - val_loss: 0.9720 - val_accuracy: 0.7578\n",
      "Epoch 17/35\n",
      "213/213 [==============================] - 211s 992ms/step - loss: 0.1261 - accuracy: 0.9412 - val_loss: 0.9777 - val_accuracy: 0.7599\n",
      "Epoch 18/35\n",
      "213/213 [==============================] - 198s 931ms/step - loss: 0.1246 - accuracy: 0.9418 - val_loss: 0.9832 - val_accuracy: 0.7592\n",
      "Epoch 19/35\n",
      "213/213 [==============================] - 186s 871ms/step - loss: 0.1233 - accuracy: 0.9425 - val_loss: 0.9895 - val_accuracy: 0.7588\n",
      "Epoch 20/35\n",
      "213/213 [==============================] - 189s 889ms/step - loss: 0.1220 - accuracy: 0.9425 - val_loss: 0.9953 - val_accuracy: 0.7585\n",
      "Epoch 21/35\n",
      "213/213 [==============================] - 176s 828ms/step - loss: 0.1207 - accuracy: 0.9429 - val_loss: 1.0017 - val_accuracy: 0.7588\n",
      "Epoch 22/35\n",
      "213/213 [==============================] - 175s 820ms/step - loss: 0.1194 - accuracy: 0.9432 - val_loss: 1.0070 - val_accuracy: 0.7575\n",
      "Epoch 23/35\n",
      "213/213 [==============================] - 169s 792ms/step - loss: 0.1181 - accuracy: 0.9435 - val_loss: 1.0155 - val_accuracy: 0.7568\n",
      "Epoch 24/35\n",
      "213/213 [==============================] - 183s 858ms/step - loss: 0.1169 - accuracy: 0.9438 - val_loss: 1.0203 - val_accuracy: 0.7564\n",
      "Epoch 25/35\n",
      "213/213 [==============================] - 180s 844ms/step - loss: 0.1156 - accuracy: 0.9441 - val_loss: 1.0267 - val_accuracy: 0.7564\n",
      "Epoch 26/35\n",
      "213/213 [==============================] - 189s 885ms/step - loss: 0.1145 - accuracy: 0.9437 - val_loss: 1.0309 - val_accuracy: 0.7568\n",
      "Epoch 27/35\n",
      "213/213 [==============================] - 199s 937ms/step - loss: 0.1134 - accuracy: 0.9444 - val_loss: 1.0363 - val_accuracy: 0.7554\n",
      "Epoch 28/35\n",
      "213/213 [==============================] - 189s 887ms/step - loss: 0.1122 - accuracy: 0.9451 - val_loss: 1.0422 - val_accuracy: 0.7561\n",
      "Epoch 29/35\n",
      "213/213 [==============================] - 182s 856ms/step - loss: 0.1111 - accuracy: 0.9459 - val_loss: 1.0483 - val_accuracy: 0.7551\n",
      "Epoch 30/35\n",
      "213/213 [==============================] - 197s 923ms/step - loss: 0.1101 - accuracy: 0.9457 - val_loss: 1.0527 - val_accuracy: 0.7537\n",
      "Epoch 31/35\n",
      "213/213 [==============================] - 181s 851ms/step - loss: 0.1090 - accuracy: 0.9462 - val_loss: 1.0594 - val_accuracy: 0.7544\n",
      "Epoch 32/35\n",
      "213/213 [==============================] - 183s 860ms/step - loss: 0.1080 - accuracy: 0.9465 - val_loss: 1.0632 - val_accuracy: 0.7544\n",
      "Epoch 33/35\n",
      "213/213 [==============================] - 184s 865ms/step - loss: 0.1069 - accuracy: 0.9472 - val_loss: 1.0696 - val_accuracy: 0.7537\n",
      "Epoch 34/35\n",
      "213/213 [==============================] - 182s 856ms/step - loss: 0.1059 - accuracy: 0.9479 - val_loss: 1.0737 - val_accuracy: 0.7537\n",
      "Epoch 35/35\n",
      "213/213 [==============================] - 183s 860ms/step - loss: 0.1049 - accuracy: 0.9484 - val_loss: 1.0823 - val_accuracy: 0.7551\n"
     ]
    },
    {
     "data": {
      "text/plain": [
       "<tensorflow.python.keras.callbacks.History at 0x1b707901940>"
      ]
     },
     "execution_count": 76,
     "metadata": {},
     "output_type": "execute_result"
    }
   ],
   "source": [
    "model_aug.fit(x_train, y_train, epochs=35, batch_size=32, validation_data=(x_cv, y_cv), verbose=1)"
   ]
  },
  {
   "cell_type": "code",
   "execution_count": 77,
   "metadata": {},
   "outputs": [],
   "source": [
    "model_aug.save('fine_tuned_model_adam_weights_new.h5')"
   ]
  },
  {
   "cell_type": "code",
   "execution_count": 108,
   "metadata": {},
   "outputs": [
    {
     "data": {
      "text/plain": [
       "<matplotlib.image.AxesImage at 0x1b71427cfd0>"
      ]
     },
     "execution_count": 108,
     "metadata": {},
     "output_type": "execute_result"
    },
    {
     "data": {
      "image/png": "[encoded data removed]",
      "text/plain": [
       "<Figure size 432x288 with 1 Axes>"
      ]
     },
     "metadata": {
      "needs_background": "light"
     },
     "output_type": "display_data"
    }
   ],
   "source": [
    "import matplotlib.pyplot as plt\n",
    "\n",
    "plt.imshow(x_train[1])"
   ]
  },
  {
   "cell_type": "code",
   "execution_count": 109,
   "metadata": {},
   "outputs": [
    {
     "data": {
      "text/plain": [
       "<matplotlib.image.AxesImage at 0x1b714298220>"
      ]
     },
     "execution_count": 109,
     "metadata": {},
     "output_type": "execute_result"
    },
    {
     "data": {
      "image/png": "[encoded data removed]",
      "text/plain": [
       "<Figure size 432x288 with 1 Axes>"
      ]
     },
     "metadata": {
      "needs_background": "light"
     },
     "output_type": "display_data"
    }
   ],
   "source": [
    "plt.imshow(x_test[1][0])"
   ]
  },
  {
   "cell_type": "code",
   "execution_count": 169,
   "metadata": {
    "scrolled": false
   },
   "outputs": [],
   "source": [
    "result = model_aug.predict(x_test[13])"
   ]
  },
  {
   "cell_type": "code",
   "execution_count": 165,
   "metadata": {},
   "outputs": [
    {
     "data": {
      "text/plain": [
       "0"
      ]
     },
     "execution_count": 165,
     "metadata": {},
     "output_type": "execute_result"
    }
   ],
   "source": [
    "y_test[12]"
   ]
  },
  {
   "cell_type": "code",
   "execution_count": 153,
   "metadata": {},
   "outputs": [
    {
     "data": {
      "text/plain": [
       "array([[1, 1, 1, ..., 1, 1, 0],\n",
       "       [1, 1, 1, ..., 1, 1, 1],\n",
       "       [1, 1, 1, ..., 1, 1, 1],\n",
       "       ...,\n",
       "       [1, 0, 0, ..., 0, 0, 1],\n",
       "       [0, 1, 1, ..., 0, 0, 0],\n",
       "       [1, 0, 1, ..., 0, 1, 1]])"
      ]
     },
     "execution_count": 153,
     "metadata": {},
     "output_type": "execute_result"
    }
   ],
   "source": [
    "result.reshape(50, 67)"
   ]
  },
  {
   "cell_type": "code",
   "execution_count": 168,
   "metadata": {},
   "outputs": [
    {
     "data": {
      "text/plain": [
       "False"
      ]
     },
     "execution_count": 168,
     "metadata": {},
     "output_type": "execute_result"
    }
   ],
   "source": [
    "np.count_nonzero(result)/len(result) < 0.5"
   ]
  },
  {
   "cell_type": "code",
   "execution_count": 134,
   "metadata": {},
   "outputs": [
    {
     "data": {
      "text/plain": [
       "192"
      ]
     },
     "execution_count": 134,
     "metadata": {},
     "output_type": "execute_result"
    }
   ],
   "source": [
    "len(result)"
   ]
  },
  {
   "cell_type": "code",
   "execution_count": 102,
   "metadata": {},
   "outputs": [
    {
     "data": {
      "text/plain": [
       "(64, 64, 3)"
      ]
     },
     "execution_count": 102,
     "metadata": {},
     "output_type": "execute_result"
    }
   ],
   "source": [
    "x_train[1].shape"
   ]
  },
  {
   "cell_type": "code",
   "execution_count": null,
   "metadata": {},
   "outputs": [],
   "source": [
    "x_test[1]"
   ]
  },
  {
   "cell_type": "code",
   "execution_count": 113,
   "metadata": {},
   "outputs": [],
   "source": [
    "result = model_aug.predict_classes(x_test[2])"
   ]
  },
  {
   "cell_type": "code",
   "execution_count": 105,
   "metadata": {},
   "outputs": [
    {
     "data": {
      "text/plain": [
       "array([[1],\n",
       "       [1],\n",
       "       [1],\n",
       "       ...,\n",
       "       [0],\n",
       "       [1],\n",
       "       [1]])"
      ]
     },
     "execution_count": 105,
     "metadata": {},
     "output_type": "execute_result"
    }
   ],
   "source": []
  }
 ],
 "metadata": {
  "kernelspec": {
   "display_name": "Python 3",
   "language": "python",
   "name": "python3"
  },
  "language_info": {
   "codemirror_mode": {
    "name": "ipython",
    "version": 3
   },
   "file_extension": ".py",
   "mimetype": "text/x-python",
   "name": "python",
   "nbconvert_exporter": "python",
   "pygments_lexer": "ipython3",
   "version": "3.8.8"
  }
 },
 "nbformat": 4,
 "nbformat_minor": 4
}
